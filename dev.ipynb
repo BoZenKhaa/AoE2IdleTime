{
 "cells": [
  {
   "cell_type": "code",
   "execution_count": 8,
   "outputs": [],
   "source": [
    "import os\n",
    "import mgz\n",
    "from mgz import header, fast\n",
    "from mgz.summary import Summary"
   ],
   "metadata": {
    "collapsed": false,
    "ExecuteTime": {
     "end_time": "2023-09-07T14:47:52.742101400Z",
     "start_time": "2023-09-07T14:47:52.719691500Z"
    }
   }
  },
  {
   "cell_type": "code",
   "execution_count": 9,
   "outputs": [],
   "source": [
    "from mgz.fast import Operation\n",
    "\n",
    "game_actions = []\n",
    "with open('AgeIIDE_Replay_257930563.aoe2record', 'rb') as data:\n",
    "    eof = os.fstat(data.fileno()).st_size\n",
    "    header.parse_stream(data)\n",
    "    fast.meta(data)\n",
    "    while data.tell() < eof:\n",
    "        op_type, val = fast.operation(data)\n",
    "        if op_type==Operation.ACTION:\n",
    "            game_actions.append(val)"
   ],
   "metadata": {
    "collapsed": false,
    "ExecuteTime": {
     "end_time": "2023-09-07T14:48:48.314629100Z",
     "start_time": "2023-09-07T14:48:46.617593800Z"
    }
   }
  },
  {
   "cell_type": "code",
   "execution_count": 12,
   "outputs": [],
   "source": [
    "import pandas as pd"
   ],
   "metadata": {
    "collapsed": false,
    "ExecuteTime": {
     "end_time": "2023-09-07T14:50:57.323581200Z",
     "start_time": "2023-09-07T14:50:56.591538500Z"
    }
   }
  },
  {
   "cell_type": "code",
   "execution_count": 16,
   "outputs": [
    {
     "data": {
      "text/plain": "array([<Action.GAME: 103>, <Action.DE_TRANSFORM: 41>,\n       <Action.DE_QUEUE: 129>, <Action.BUILD: 102>, <Action.MOVE: 3>,\n       <Action.ORDER: 0>, <Action.GATHER_POINT: 120>, <Action.STOP: 1>,\n       <Action.SPECIAL: 117>, <Action.UNGARRISON: 111>,\n       <Action.BACK_TO_WORK: 128>, <Action.RESEARCH: 101>,\n       <Action.WALL: 105>, <Action.DELETE: 106>, <Action.PATROL: 21>,\n       <Action.BUY: 123>, <Action.SELL: 122>, <Action.STANCE: 18>,\n       <Action.ATTACK_GROUND: 107>, <Action.FORMATION: 23>,\n       <Action.RESIGN: 11>], dtype=object)"
     },
     "execution_count": 16,
     "metadata": {},
     "output_type": "execute_result"
    }
   ],
   "source": [
    "pd.Series(map(lambda x: x[0], game_actions)).unique()"
   ],
   "metadata": {
    "collapsed": false,
    "ExecuteTime": {
     "end_time": "2023-09-07T14:51:58.638527900Z",
     "start_time": "2023-09-07T14:51:58.628519500Z"
    }
   }
  },
  {
   "cell_type": "code",
   "execution_count": 25,
   "outputs": [],
   "source": [
    "from mgz.fast import Action\n",
    "\n",
    "df = pd.DataFrame(map(lambda x: x[1], filter(lambda x: x[0]==Action.DE_QUEUE, game_actions)))"
   ],
   "metadata": {
    "collapsed": false,
    "ExecuteTime": {
     "end_time": "2023-09-07T14:56:13.174887400Z",
     "start_time": "2023-09-07T14:56:13.154326700Z"
    }
   }
  },
  {
   "cell_type": "code",
   "execution_count": 33,
   "outputs": [],
   "source": [
    "p1_queue_actions = df.loc[df[\"player_id\"]==1, :]"
   ],
   "metadata": {
    "collapsed": false,
    "ExecuteTime": {
     "end_time": "2023-09-07T14:58:03.239370400Z",
     "start_time": "2023-09-07T14:58:03.233358400Z"
    }
   }
  },
  {
   "cell_type": "code",
   "execution_count": 36,
   "outputs": [],
   "source": [
    "p1_vilbuild_actions = p1_queue_actions[p1_queue_actions.unit_id==83]"
   ],
   "metadata": {
    "collapsed": false,
    "ExecuteTime": {
     "end_time": "2023-09-07T14:59:26.110149700Z",
     "start_time": "2023-09-07T14:59:26.098533800Z"
    }
   }
  },
  {
   "cell_type": "code",
   "execution_count": 42,
   "outputs": [
    {
     "data": {
      "text/plain": "array([   208,    208,  13975,  67639,    208,  36348,  13208,  31486,\n        11375,  46514,    208,  56264,    195,  17277,  19695,   6500,\n         8736,  19903,   8944,   6903,  26819,  12181,   8944,  18278,\n         9750,  39611,  65611,  54223,  53430,   4667,  13611,  32708,\n         6292,  22542,   6305,   6292,  17268,  14434,  46514,  30875,\n        19708,  22334,  37787,  21125,  29064,   1625,  29042,   5295,\n        25196,  13403,  39425,   1209,  53027,  86288, 107854,   8320,\n        32065,  66332,    200,    200,    425,  24690,    208,  26636,\n          415,    200,   8484,    425,    200, 110587,    200,    425,\n          200,    425,   3091,    196,  18630,  14184,  12867,  11239,\n        22744,    196,    221,  41829,    196,    196,    420,    224,\n        17997,  12190,  12768,  11797,   3906,    225,  25172,    425,\n         9716,  12168,  40303,    200,   2690,    221,  23260,    392,\n          224,  29377,  39584,    224,   2660,    224,  46605,    200,\n         2725,    400,    225,  41996,   2500,    225,  51139,   2688,\n          389,    225,  23050,  10176,    196,    420,    196,  41972,\n          425,    200,   2925,    200,  42025,    196,    420,    196,\n          196,    420,    196,  56370,    200,    425,    425,  22552,\n          224,    392,    224,  37044,    420,    196,    420,  35850,\n          224,  34670,    400,    225,  30420,    425,    200,  19565,\n          224,  21083,    225,  35494,    196,    196,  11340,    196,\n       113537,    225,   4520,    425,  89111,    420,    196,   9271,\n          210,    389,   5734,    224,  23290,    196,    420,   7717,\n          200,  10137,    420, 125576,    400,   5114,  33017,  16515],\n      dtype=int64)"
     },
     "execution_count": 42,
     "metadata": {},
     "output_type": "execute_result"
    }
   ],
   "source": [
    "p1_vilbuild_actions.sequence[1:].values-p1_vilbuild_actions.sequence[:-1].values"
   ],
   "metadata": {
    "collapsed": false,
    "ExecuteTime": {
     "end_time": "2023-09-07T15:00:34.326759100Z",
     "start_time": "2023-09-07T15:00:34.322086600Z"
    }
   }
  },
  {
   "cell_type": "code",
   "execution_count": 43,
   "outputs": [
    {
     "data": {
      "text/plain": "     player_id                object_ids  amount  unit_id  sequence\n0            1                    [2698]       1       83       936\n1            1                    [2698]       1       83      1144\n2            1                    [2698]       1       83      1352\n6            1                    [2698]       1       83     15327\n8            1                    [2698]       1       83     82966\n..         ...                       ...     ...      ...       ...\n555          1  [2698, 7403, 4258, 3986]       1       83   2976829\n556          1  [2698, 7403, 4258, 3986]       1       83   2977229\n557          1  [2698, 7403, 4258, 3986]       1       83   2982343\n558          1  [2698, 7403, 4258, 3986]       1       83   3015360\n566          1  [2698, 7403, 4258, 3986]       1       83   3031875\n\n[193 rows x 5 columns]",
      "text/html": "<div>\n<style scoped>\n    .dataframe tbody tr th:only-of-type {\n        vertical-align: middle;\n    }\n\n    .dataframe tbody tr th {\n        vertical-align: top;\n    }\n\n    .dataframe thead th {\n        text-align: right;\n    }\n</style>\n<table border=\"1\" class=\"dataframe\">\n  <thead>\n    <tr style=\"text-align: right;\">\n      <th></th>\n      <th>player_id</th>\n      <th>object_ids</th>\n      <th>amount</th>\n      <th>unit_id</th>\n      <th>sequence</th>\n    </tr>\n  </thead>\n  <tbody>\n    <tr>\n      <th>0</th>\n      <td>1</td>\n      <td>[2698]</td>\n      <td>1</td>\n      <td>83</td>\n      <td>936</td>\n    </tr>\n    <tr>\n      <th>1</th>\n      <td>1</td>\n      <td>[2698]</td>\n      <td>1</td>\n      <td>83</td>\n      <td>1144</td>\n    </tr>\n    <tr>\n      <th>2</th>\n      <td>1</td>\n      <td>[2698]</td>\n      <td>1</td>\n      <td>83</td>\n      <td>1352</td>\n    </tr>\n    <tr>\n      <th>6</th>\n      <td>1</td>\n      <td>[2698]</td>\n      <td>1</td>\n      <td>83</td>\n      <td>15327</td>\n    </tr>\n    <tr>\n      <th>8</th>\n      <td>1</td>\n      <td>[2698]</td>\n      <td>1</td>\n      <td>83</td>\n      <td>82966</td>\n    </tr>\n    <tr>\n      <th>...</th>\n      <td>...</td>\n      <td>...</td>\n      <td>...</td>\n      <td>...</td>\n      <td>...</td>\n    </tr>\n    <tr>\n      <th>555</th>\n      <td>1</td>\n      <td>[2698, 7403, 4258, 3986]</td>\n      <td>1</td>\n      <td>83</td>\n      <td>2976829</td>\n    </tr>\n    <tr>\n      <th>556</th>\n      <td>1</td>\n      <td>[2698, 7403, 4258, 3986]</td>\n      <td>1</td>\n      <td>83</td>\n      <td>2977229</td>\n    </tr>\n    <tr>\n      <th>557</th>\n      <td>1</td>\n      <td>[2698, 7403, 4258, 3986]</td>\n      <td>1</td>\n      <td>83</td>\n      <td>2982343</td>\n    </tr>\n    <tr>\n      <th>558</th>\n      <td>1</td>\n      <td>[2698, 7403, 4258, 3986]</td>\n      <td>1</td>\n      <td>83</td>\n      <td>3015360</td>\n    </tr>\n    <tr>\n      <th>566</th>\n      <td>1</td>\n      <td>[2698, 7403, 4258, 3986]</td>\n      <td>1</td>\n      <td>83</td>\n      <td>3031875</td>\n    </tr>\n  </tbody>\n</table>\n<p>193 rows × 5 columns</p>\n</div>"
     },
     "execution_count": 43,
     "metadata": {},
     "output_type": "execute_result"
    }
   ],
   "source": [
    "p1_vilbuild_actions"
   ],
   "metadata": {
    "collapsed": false,
    "ExecuteTime": {
     "end_time": "2023-09-07T15:01:09.199834300Z",
     "start_time": "2023-09-07T15:01:09.192015400Z"
    }
   }
  },
  {
   "cell_type": "code",
   "execution_count": null,
   "outputs": [],
   "source": [
    "# There is actually a snippet that does what I want, almost: https://gist.github.com/santolucito/a01927be45a2a7a8e02ce9a50ddd8e75"
   ],
   "metadata": {
    "collapsed": false
   }
  }
 ],
 "metadata": {
  "kernelspec": {
   "display_name": "Python 3",
   "language": "python",
   "name": "python3"
  },
  "language_info": {
   "codemirror_mode": {
    "name": "ipython",
    "version": 2
   },
   "file_extension": ".py",
   "mimetype": "text/x-python",
   "name": "python",
   "nbconvert_exporter": "python",
   "pygments_lexer": "ipython2",
   "version": "2.7.6"
  }
 },
 "nbformat": 4,
 "nbformat_minor": 0
}
