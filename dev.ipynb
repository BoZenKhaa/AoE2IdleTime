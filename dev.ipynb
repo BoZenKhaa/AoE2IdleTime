{
 "cells": [
  {
   "cell_type": "code",
   "execution_count": 80,
   "outputs": [],
   "source": [
    "import os\n",
    "import mgz\n",
    "from mgz import header, fast\n",
    "from mgz.summary import Summary\n",
    "from mgz.fast.enums import Action\n",
    "\n",
    "import pandas as pd"
   ],
   "metadata": {
    "collapsed": false,
    "ExecuteTime": {
     "end_time": "2023-09-18T08:36:28.209747400Z",
     "start_time": "2023-09-18T08:36:28.167965400Z"
    }
   }
  },
  {
   "cell_type": "markdown",
   "source": [
    "## Load replay"
   ],
   "metadata": {
    "collapsed": false
   }
  },
  {
   "cell_type": "code",
   "execution_count": 442,
   "outputs": [
    {
     "data": {
      "text/plain": "0"
     },
     "execution_count": 442,
     "metadata": {},
     "output_type": "execute_result"
    }
   ],
   "source": [
    "len({})"
   ],
   "metadata": {
    "collapsed": false,
    "ExecuteTime": {
     "end_time": "2023-09-19T09:46:47.460020Z",
     "start_time": "2023-09-19T09:46:47.438861400Z"
    }
   }
  },
  {
   "cell_type": "code",
   "execution_count": 334,
   "outputs": [],
   "source": [
    "from mgz.fast import Operation\n",
    "\n",
    "NEEDED_DATA = [Operation.CHAT, Operation.ACTION, Operation.SYNC]\n",
    "\n",
    "game_data = []\n",
    "# with open('data/AgeIIDE_Replay_257930563.aoe2record', 'rb') as data:\n",
    "with open('data/SP_timed_replay.aoe2record', 'rb') as data:\n",
    "# with open('data/SP_dequeueing_exercise.aoe2record', 'rb') as data:\n",
    "# with open('data/SP_dequeuing_2.aoe2record', 'rb') as data:\n",
    "    eof = os.fstat(data.fileno()).st_size\n",
    "    header.parse_stream(data)\n",
    "    fast.meta(data)\n",
    "    while data.tell() < eof:\n",
    "        op_type, val = fast.operation(data)\n",
    "        if op_type in NEEDED_DATA:\n",
    "            game_data.append((op_type, val))"
   ],
   "metadata": {
    "collapsed": false,
    "ExecuteTime": {
     "end_time": "2023-09-19T07:25:47.277143200Z",
     "start_time": "2023-09-19T07:25:45.394368700Z"
    }
   }
  },
  {
   "cell_type": "markdown",
   "source": [
    "## Analyze needed events"
   ],
   "metadata": {
    "collapsed": false
   }
  },
  {
   "cell_type": "code",
   "execution_count": 335,
   "outputs": [],
   "source": [
    "syncs = pd.Series(list(filter(lambda x: x[0]==Operation.SYNC, game_data))).unique()\n",
    "actions = pd.Series(list(filter(lambda x: x[0]==Operation.ACTION, game_data)))\n",
    "chats = pd.Series(list(filter(lambda x: x[0]==Operation.CHAT, game_data))).unique()"
   ],
   "metadata": {
    "collapsed": false,
    "ExecuteTime": {
     "end_time": "2023-09-19T07:25:47.349229900Z",
     "start_time": "2023-09-19T07:25:47.338491400Z"
    }
   }
  },
  {
   "cell_type": "code",
   "execution_count": 336,
   "outputs": [
    {
     "data": {
      "text/plain": "array([(<Operation.SYNC: 2>, (0, None)),\n       (<Operation.SYNC: 2>, (11, None)),\n       (<Operation.SYNC: 2>, (38, None)),\n       (<Operation.SYNC: 2>, (33, None)),\n       (<Operation.SYNC: 2>, (42, None)),\n       (<Operation.SYNC: 2>, (25, None)),\n       (<Operation.SYNC: 2>, (23, None)),\n       (<Operation.SYNC: 2>, (27, None)),\n       (<Operation.SYNC: 2>, (37, None)),\n       (<Operation.SYNC: 2>, (21, None)),\n       (<Operation.SYNC: 2>, (35, None)),\n       (<Operation.SYNC: 2>, (32, None)),\n       (<Operation.SYNC: 2>, (30, None)),\n       (<Operation.SYNC: 2>, (20, None)),\n       (<Operation.SYNC: 2>, (131, None)),\n       (<Operation.SYNC: 2>, (18, None)),\n       (<Operation.SYNC: 2>, (45, None)),\n       (<Operation.SYNC: 2>, (40, None)),\n       (<Operation.SYNC: 2>, (128, None)),\n       (<Operation.SYNC: 2>, (145, None)),\n       (<Operation.SYNC: 2>, (50, None)),\n       (<Operation.SYNC: 2>, (169, None)),\n       (<Operation.SYNC: 2>, (135, None)),\n       (<Operation.SYNC: 2>, (47, None)),\n       (<Operation.SYNC: 2>, (64, None)),\n       (<Operation.SYNC: 2>, (28, None)),\n       (<Operation.SYNC: 2>, (55, None)),\n       (<Operation.SYNC: 2>, (147, None)),\n       (<Operation.SYNC: 2>, (119, None)),\n       (<Operation.SYNC: 2>, (89, None)),\n       (<Operation.SYNC: 2>, (15, None)),\n       (<Operation.SYNC: 2>, (150, None)),\n       (<Operation.SYNC: 2>, (57, None)),\n       (<Operation.SYNC: 2>, (52, None)),\n       (<Operation.SYNC: 2>, (43, None)),\n       (<Operation.SYNC: 2>, (54, None)),\n       (<Operation.SYNC: 2>, (76, None)),\n       (<Operation.SYNC: 2>, (16, None)),\n       (<Operation.SYNC: 2>, (59, None)),\n       (<Operation.SYNC: 2>, (140, None)),\n       (<Operation.SYNC: 2>, (133, None)),\n       (<Operation.SYNC: 2>, (98, None)),\n       (<Operation.SYNC: 2>, (70, None)),\n       (<Operation.SYNC: 2>, (138, None)),\n       (<Operation.SYNC: 2>, (108, None)),\n       (<Operation.SYNC: 2>, (136, None)),\n       (<Operation.SYNC: 2>, (113, None)),\n       (<Operation.SYNC: 2>, (111, None)),\n       (<Operation.SYNC: 2>, (165, None)),\n       (<Operation.SYNC: 2>, (49, None)),\n       (<Operation.SYNC: 2>, (10, None)),\n       (<Operation.SYNC: 2>, (13, None)),\n       (<Operation.SYNC: 2>, (72, None)),\n       (<Operation.SYNC: 2>, (99, None)),\n       (<Operation.SYNC: 2>, (91, None)),\n       (<Operation.SYNC: 2>, (69, None)),\n       (<Operation.SYNC: 2>, (84, None)),\n       (<Operation.SYNC: 2>, (125, None)),\n       (<Operation.SYNC: 2>, (87, None)), (<Operation.SYNC: 2>, (27, 0)),\n       (<Operation.SYNC: 2>, (67, None)),\n       (<Operation.SYNC: 2>, (60, None)),\n       (<Operation.SYNC: 2>, (62, None)), (<Operation.SYNC: 2>, (33, 0)),\n       (<Operation.SYNC: 2>, (74, None)),\n       (<Operation.SYNC: 2>, (65, None)),\n       (<Operation.SYNC: 2>, (121, None)),\n       (<Operation.SYNC: 2>, (92, None)),\n       (<Operation.SYNC: 2>, (109, None)),\n       (<Operation.SYNC: 2>, (96, None)), (<Operation.SYNC: 2>, (23, 0)),\n       (<Operation.SYNC: 2>, (114, None)),\n       (<Operation.SYNC: 2>, (148, None)),\n       (<Operation.SYNC: 2>, (104, None)),\n       (<Operation.SYNC: 2>, (101, None)),\n       (<Operation.SYNC: 2>, (79, None)),\n       (<Operation.SYNC: 2>, (155, None)),\n       (<Operation.SYNC: 2>, (118, None)),\n       (<Operation.SYNC: 2>, (94, None)),\n       (<Operation.SYNC: 2>, (141, None)),\n       (<Operation.SYNC: 2>, (152, None)),\n       (<Operation.SYNC: 2>, (106, None)),\n       (<Operation.SYNC: 2>, (8, None)),\n       (<Operation.SYNC: 2>, (126, None)),\n       (<Operation.SYNC: 2>, (157, None)),\n       (<Operation.SYNC: 2>, (77, None)), (<Operation.SYNC: 2>, (103, 0)),\n       (<Operation.SYNC: 2>, (103, None)),\n       (<Operation.SYNC: 2>, (81, None)),\n       (<Operation.SYNC: 2>, (123, None)),\n       (<Operation.SYNC: 2>, (82, None)),\n       (<Operation.SYNC: 2>, (163, None)),\n       (<Operation.SYNC: 2>, (158, None)),\n       (<Operation.SYNC: 2>, (153, None)),\n       (<Operation.SYNC: 2>, (167, None)), (<Operation.SYNC: 2>, (25, 0)),\n       (<Operation.SYNC: 2>, (143, None)),\n       (<Operation.SYNC: 2>, (86, None)),\n       (<Operation.SYNC: 2>, (116, None)),\n       (<Operation.SYNC: 2>, (130, None)),\n       (<Operation.SYNC: 2>, (162, None)), (<Operation.SYNC: 2>, (32, 0)),\n       (<Operation.SYNC: 2>, (20, 0)), (<Operation.SYNC: 2>, (57, 0)),\n       (<Operation.SYNC: 2>, (37, 0)), (<Operation.SYNC: 2>, (6, None)),\n       (<Operation.SYNC: 2>, (18, 0)), (<Operation.SYNC: 2>, (40, 0)),\n       (<Operation.SYNC: 2>, (21, 0)), (<Operation.SYNC: 2>, (118, 0)),\n       (<Operation.SYNC: 2>, (160, None)), (<Operation.SYNC: 2>, (28, 0)),\n       (<Operation.SYNC: 2>, (74, 0)), (<Operation.SYNC: 2>, (13, 0)),\n       (<Operation.SYNC: 2>, (16, 0)), (<Operation.SYNC: 2>, (38, 0))],\n      dtype=object)"
     },
     "execution_count": 336,
     "metadata": {},
     "output_type": "execute_result"
    }
   ],
   "source": [
    "syncs"
   ],
   "metadata": {
    "collapsed": false,
    "ExecuteTime": {
     "end_time": "2023-09-19T07:25:47.644600800Z",
     "start_time": "2023-09-19T07:25:47.618767900Z"
    }
   }
  },
  {
   "cell_type": "code",
   "execution_count": 337,
   "outputs": [
    {
     "data": {
      "text/plain": "array([(<Operation.CHAT: 4>, b'{\"player\":1,\"channel\":0,\"message\":\"60\",\"tauntNumber\":60,\"messageAGP\":\"\"}'),\n       (<Operation.CHAT: 4>, b'{\"player\":1,\"channel\":0,\"message\":\"60\",\"tauntNumber\":60,\"messageAGP\":\"@#11 Blazena_Bozena: 60\"}'),\n       (<Operation.CHAT: 4>, b'{\"player\":1,\"channel\":0,\"message\":\"121\",\"tauntNumber\":-1,\"messageAGP\":\"@#11 Blazena_Bozena: 121\"}'),\n       (<Operation.CHAT: 4>, b'{\"player\":1,\"channel\":0,\"message\":\"3:08\",\"tauntNumber\":3,\"messageAGP\":\"@#11 Blazena_Bozena: 3:08\"}'),\n       (<Operation.CHAT: 4>, b'{\"player\":1,\"channel\":0,\"message\":\"4:00\",\"tauntNumber\":4,\"messageAGP\":\"@#11 Blazena_Bozena: 4:00\"}'),\n       (<Operation.CHAT: 4>, b'{\"player\":1,\"channel\":0,\"message\":\"Blazena_Bozena advanced to the Feudal Age.\",\"tauntNumber\":-1,\"messageAGP\":\"@#1Blazena_Bozena advanced to the Feudal Age.\"}'),\n       (<Operation.CHAT: 4>, b'{\"player\":1,\"channel\":0,\"message\":\"8:21\",\"tauntNumber\":8,\"messageAGP\":\"@#11 Blazena_Bozena: 8:21\"}'),\n       (<Operation.CHAT: 4>, b'{\"player\":1,\"channel\":0,\"message\":\"Blazena_Bozena advanced to the Castle Age.\",\"tauntNumber\":-1,\"messageAGP\":\"@#1Blazena_Bozena advanced to the Castle Age.\"}'),\n       (<Operation.CHAT: 4>, b'{\"player\":1,\"channel\":0,\"message\":\"9:28\",\"tauntNumber\":9,\"messageAGP\":\"@#11 Blazena_Bozena: 9:28\"}'),\n       (<Operation.CHAT: 4>, b'{\"player\":1,\"channel\":0,\"message\":\"10:00\",\"tauntNumber\":10,\"messageAGP\":\"@#11 Blazena_Bozena: 10:00\"}')],\n      dtype=object)"
     },
     "execution_count": 337,
     "metadata": {},
     "output_type": "execute_result"
    }
   ],
   "source": [
    "chats"
   ],
   "metadata": {
    "collapsed": false,
    "ExecuteTime": {
     "end_time": "2023-09-19T07:25:47.910743200Z",
     "start_time": "2023-09-19T07:25:47.854525Z"
    }
   }
  },
  {
   "cell_type": "code",
   "execution_count": 339,
   "outputs": [
    {
     "data": {
      "text/plain": "array([<Action.GAME: 103>, <Action.DE_TRANSFORM: 41>,\n       <Action.DE_QUEUE: 129>, <Action.BUILD: 102>, <Action.SPECIAL: 117>,\n       <Action.RESEARCH: 101>, <Action.ORDER: 0>, <Action.RESIGN: 11>],\n      dtype=object)"
     },
     "execution_count": 339,
     "metadata": {},
     "output_type": "execute_result"
    }
   ],
   "source": [
    "pd.Series(map(lambda x: x[1][0], actions)).unique()"
   ],
   "metadata": {
    "collapsed": false,
    "ExecuteTime": {
     "end_time": "2023-09-19T07:25:48.300421700Z",
     "start_time": "2023-09-19T07:25:48.212275400Z"
    }
   }
  },
  {
   "cell_type": "markdown",
   "source": [
    "### Get queue and dequeue actions\n",
    "\n",
    "TCs in given game are ids 2705 and 2698"
   ],
   "metadata": {
    "collapsed": false
   }
  },
  {
   "cell_type": "code",
   "execution_count": 340,
   "outputs": [
    {
     "data": {
      "text/plain": "array([<Action.GAME: 103>, <Action.DE_TRANSFORM: 41>,\n       <Action.DE_QUEUE: 129>, <Action.BUILD: 102>, <Action.SPECIAL: 117>,\n       <Action.RESEARCH: 101>, <Action.ORDER: 0>, <Action.RESIGN: 11>],\n      dtype=object)"
     },
     "execution_count": 340,
     "metadata": {},
     "output_type": "execute_result"
    }
   ],
   "source": [
    "pd.Series(map(lambda x: x[1][0], filter(lambda x: x[0]==Operation.ACTION, game_data))).unique()"
   ],
   "metadata": {
    "collapsed": false,
    "ExecuteTime": {
     "end_time": "2023-09-19T07:25:48.755035700Z",
     "start_time": "2023-09-19T07:25:48.730925Z"
    }
   }
  },
  {
   "cell_type": "code",
   "execution_count": 341,
   "outputs": [
    {
     "data": {
      "text/plain": "    player_id object_ids  amount  unit_id  sequence\n0           1     [1940]       1       83      1441\n1           1     [1940]       1       83      1691\n2           1     [1940]       1       83      1995\n3           1     [1940]       1       83      2202\n4           1     [1940]       1       83     12900\n5           1     [1940]       1       83     13222\n6           1     [1940]       1       83     13596\n7           1     [1940]       1       83     47681\n8           1     [1940]       1       83     47962\n9           1     [1940]       1       83     48244\n10          1     [1940]       1       83     48484\n11          1     [1940]       1       83     48854\n12          1     [1940]       1       83     85313\n13          1     [1940]       1       83     85590\n14          1     [1940]       1       83     85856\n15          1     [1940]       1       83     86199\n16          1     [1940]       1       83     86432\n17          1     [1940]       1       83     86756\n18          1     [1940]       1       83     87140\n19          1     [1940]       1       83    119321\n20          1     [1940]       1       83    119617\n21          1     [1940]       1       83    119892\n22          1     [1940]       1       83    120234\n23          1     [1940]       1       83    120645\n24          1     [1940]       1       83    144053\n25          1     [1940]       1       83    144338\n26          1     [1940]       1       83    144597\n27          1     [1940]       1       83    144877\n28          1     [1940]       1       83    145163\n29          1     [1940]       1       83    145440\n30          1     [1940]       1       83    179276\n31          1     [1940]       1       83    179562\n32          1     [1940]       1       83    179796\n33          1     [1940]       1       83    180063\n34          1     [1940]       1       83    180387\n35          1     [1940]       1       83    180630\n36          1     [1940]       1       83    310058\n37          1     [1940]       1       83    310281\n38          1     [1940]       1       83    314895\n39          1     [1940]       1       83    315080\n40          1     [1940]       1       83    315578\n41          1     [1940]       1       83    323373\n42          1     [1940]       1       83    323674\n43          1     [1940]       1       83    356317\n44          1     [1940]       1       83    365362\n45          1     [1940]       1       83    365601\n46          1     [1940]       1       83    365860\n47          1     [1940]       1       83    366128\n48          1     [1940]       1       83    396792\n49          1     [1940]       1       83    403919\n50          1     [1940]       1       83    467317\n51          1     [1940]       1       83    467533",
      "text/html": "<div>\n<style scoped>\n    .dataframe tbody tr th:only-of-type {\n        vertical-align: middle;\n    }\n\n    .dataframe tbody tr th {\n        vertical-align: top;\n    }\n\n    .dataframe thead th {\n        text-align: right;\n    }\n</style>\n<table border=\"1\" class=\"dataframe\">\n  <thead>\n    <tr style=\"text-align: right;\">\n      <th></th>\n      <th>player_id</th>\n      <th>object_ids</th>\n      <th>amount</th>\n      <th>unit_id</th>\n      <th>sequence</th>\n    </tr>\n  </thead>\n  <tbody>\n    <tr>\n      <th>0</th>\n      <td>1</td>\n      <td>[1940]</td>\n      <td>1</td>\n      <td>83</td>\n      <td>1441</td>\n    </tr>\n    <tr>\n      <th>1</th>\n      <td>1</td>\n      <td>[1940]</td>\n      <td>1</td>\n      <td>83</td>\n      <td>1691</td>\n    </tr>\n    <tr>\n      <th>2</th>\n      <td>1</td>\n      <td>[1940]</td>\n      <td>1</td>\n      <td>83</td>\n      <td>1995</td>\n    </tr>\n    <tr>\n      <th>3</th>\n      <td>1</td>\n      <td>[1940]</td>\n      <td>1</td>\n      <td>83</td>\n      <td>2202</td>\n    </tr>\n    <tr>\n      <th>4</th>\n      <td>1</td>\n      <td>[1940]</td>\n      <td>1</td>\n      <td>83</td>\n      <td>12900</td>\n    </tr>\n    <tr>\n      <th>5</th>\n      <td>1</td>\n      <td>[1940]</td>\n      <td>1</td>\n      <td>83</td>\n      <td>13222</td>\n    </tr>\n    <tr>\n      <th>6</th>\n      <td>1</td>\n      <td>[1940]</td>\n      <td>1</td>\n      <td>83</td>\n      <td>13596</td>\n    </tr>\n    <tr>\n      <th>7</th>\n      <td>1</td>\n      <td>[1940]</td>\n      <td>1</td>\n      <td>83</td>\n      <td>47681</td>\n    </tr>\n    <tr>\n      <th>8</th>\n      <td>1</td>\n      <td>[1940]</td>\n      <td>1</td>\n      <td>83</td>\n      <td>47962</td>\n    </tr>\n    <tr>\n      <th>9</th>\n      <td>1</td>\n      <td>[1940]</td>\n      <td>1</td>\n      <td>83</td>\n      <td>48244</td>\n    </tr>\n    <tr>\n      <th>10</th>\n      <td>1</td>\n      <td>[1940]</td>\n      <td>1</td>\n      <td>83</td>\n      <td>48484</td>\n    </tr>\n    <tr>\n      <th>11</th>\n      <td>1</td>\n      <td>[1940]</td>\n      <td>1</td>\n      <td>83</td>\n      <td>48854</td>\n    </tr>\n    <tr>\n      <th>12</th>\n      <td>1</td>\n      <td>[1940]</td>\n      <td>1</td>\n      <td>83</td>\n      <td>85313</td>\n    </tr>\n    <tr>\n      <th>13</th>\n      <td>1</td>\n      <td>[1940]</td>\n      <td>1</td>\n      <td>83</td>\n      <td>85590</td>\n    </tr>\n    <tr>\n      <th>14</th>\n      <td>1</td>\n      <td>[1940]</td>\n      <td>1</td>\n      <td>83</td>\n      <td>85856</td>\n    </tr>\n    <tr>\n      <th>15</th>\n      <td>1</td>\n      <td>[1940]</td>\n      <td>1</td>\n      <td>83</td>\n      <td>86199</td>\n    </tr>\n    <tr>\n      <th>16</th>\n      <td>1</td>\n      <td>[1940]</td>\n      <td>1</td>\n      <td>83</td>\n      <td>86432</td>\n    </tr>\n    <tr>\n      <th>17</th>\n      <td>1</td>\n      <td>[1940]</td>\n      <td>1</td>\n      <td>83</td>\n      <td>86756</td>\n    </tr>\n    <tr>\n      <th>18</th>\n      <td>1</td>\n      <td>[1940]</td>\n      <td>1</td>\n      <td>83</td>\n      <td>87140</td>\n    </tr>\n    <tr>\n      <th>19</th>\n      <td>1</td>\n      <td>[1940]</td>\n      <td>1</td>\n      <td>83</td>\n      <td>119321</td>\n    </tr>\n    <tr>\n      <th>20</th>\n      <td>1</td>\n      <td>[1940]</td>\n      <td>1</td>\n      <td>83</td>\n      <td>119617</td>\n    </tr>\n    <tr>\n      <th>21</th>\n      <td>1</td>\n      <td>[1940]</td>\n      <td>1</td>\n      <td>83</td>\n      <td>119892</td>\n    </tr>\n    <tr>\n      <th>22</th>\n      <td>1</td>\n      <td>[1940]</td>\n      <td>1</td>\n      <td>83</td>\n      <td>120234</td>\n    </tr>\n    <tr>\n      <th>23</th>\n      <td>1</td>\n      <td>[1940]</td>\n      <td>1</td>\n      <td>83</td>\n      <td>120645</td>\n    </tr>\n    <tr>\n      <th>24</th>\n      <td>1</td>\n      <td>[1940]</td>\n      <td>1</td>\n      <td>83</td>\n      <td>144053</td>\n    </tr>\n    <tr>\n      <th>25</th>\n      <td>1</td>\n      <td>[1940]</td>\n      <td>1</td>\n      <td>83</td>\n      <td>144338</td>\n    </tr>\n    <tr>\n      <th>26</th>\n      <td>1</td>\n      <td>[1940]</td>\n      <td>1</td>\n      <td>83</td>\n      <td>144597</td>\n    </tr>\n    <tr>\n      <th>27</th>\n      <td>1</td>\n      <td>[1940]</td>\n      <td>1</td>\n      <td>83</td>\n      <td>144877</td>\n    </tr>\n    <tr>\n      <th>28</th>\n      <td>1</td>\n      <td>[1940]</td>\n      <td>1</td>\n      <td>83</td>\n      <td>145163</td>\n    </tr>\n    <tr>\n      <th>29</th>\n      <td>1</td>\n      <td>[1940]</td>\n      <td>1</td>\n      <td>83</td>\n      <td>145440</td>\n    </tr>\n    <tr>\n      <th>30</th>\n      <td>1</td>\n      <td>[1940]</td>\n      <td>1</td>\n      <td>83</td>\n      <td>179276</td>\n    </tr>\n    <tr>\n      <th>31</th>\n      <td>1</td>\n      <td>[1940]</td>\n      <td>1</td>\n      <td>83</td>\n      <td>179562</td>\n    </tr>\n    <tr>\n      <th>32</th>\n      <td>1</td>\n      <td>[1940]</td>\n      <td>1</td>\n      <td>83</td>\n      <td>179796</td>\n    </tr>\n    <tr>\n      <th>33</th>\n      <td>1</td>\n      <td>[1940]</td>\n      <td>1</td>\n      <td>83</td>\n      <td>180063</td>\n    </tr>\n    <tr>\n      <th>34</th>\n      <td>1</td>\n      <td>[1940]</td>\n      <td>1</td>\n      <td>83</td>\n      <td>180387</td>\n    </tr>\n    <tr>\n      <th>35</th>\n      <td>1</td>\n      <td>[1940]</td>\n      <td>1</td>\n      <td>83</td>\n      <td>180630</td>\n    </tr>\n    <tr>\n      <th>36</th>\n      <td>1</td>\n      <td>[1940]</td>\n      <td>1</td>\n      <td>83</td>\n      <td>310058</td>\n    </tr>\n    <tr>\n      <th>37</th>\n      <td>1</td>\n      <td>[1940]</td>\n      <td>1</td>\n      <td>83</td>\n      <td>310281</td>\n    </tr>\n    <tr>\n      <th>38</th>\n      <td>1</td>\n      <td>[1940]</td>\n      <td>1</td>\n      <td>83</td>\n      <td>314895</td>\n    </tr>\n    <tr>\n      <th>39</th>\n      <td>1</td>\n      <td>[1940]</td>\n      <td>1</td>\n      <td>83</td>\n      <td>315080</td>\n    </tr>\n    <tr>\n      <th>40</th>\n      <td>1</td>\n      <td>[1940]</td>\n      <td>1</td>\n      <td>83</td>\n      <td>315578</td>\n    </tr>\n    <tr>\n      <th>41</th>\n      <td>1</td>\n      <td>[1940]</td>\n      <td>1</td>\n      <td>83</td>\n      <td>323373</td>\n    </tr>\n    <tr>\n      <th>42</th>\n      <td>1</td>\n      <td>[1940]</td>\n      <td>1</td>\n      <td>83</td>\n      <td>323674</td>\n    </tr>\n    <tr>\n      <th>43</th>\n      <td>1</td>\n      <td>[1940]</td>\n      <td>1</td>\n      <td>83</td>\n      <td>356317</td>\n    </tr>\n    <tr>\n      <th>44</th>\n      <td>1</td>\n      <td>[1940]</td>\n      <td>1</td>\n      <td>83</td>\n      <td>365362</td>\n    </tr>\n    <tr>\n      <th>45</th>\n      <td>1</td>\n      <td>[1940]</td>\n      <td>1</td>\n      <td>83</td>\n      <td>365601</td>\n    </tr>\n    <tr>\n      <th>46</th>\n      <td>1</td>\n      <td>[1940]</td>\n      <td>1</td>\n      <td>83</td>\n      <td>365860</td>\n    </tr>\n    <tr>\n      <th>47</th>\n      <td>1</td>\n      <td>[1940]</td>\n      <td>1</td>\n      <td>83</td>\n      <td>366128</td>\n    </tr>\n    <tr>\n      <th>48</th>\n      <td>1</td>\n      <td>[1940]</td>\n      <td>1</td>\n      <td>83</td>\n      <td>396792</td>\n    </tr>\n    <tr>\n      <th>49</th>\n      <td>1</td>\n      <td>[1940]</td>\n      <td>1</td>\n      <td>83</td>\n      <td>403919</td>\n    </tr>\n    <tr>\n      <th>50</th>\n      <td>1</td>\n      <td>[1940]</td>\n      <td>1</td>\n      <td>83</td>\n      <td>467317</td>\n    </tr>\n    <tr>\n      <th>51</th>\n      <td>1</td>\n      <td>[1940]</td>\n      <td>1</td>\n      <td>83</td>\n      <td>467533</td>\n    </tr>\n  </tbody>\n</table>\n</div>"
     },
     "execution_count": 341,
     "metadata": {},
     "output_type": "execute_result"
    }
   ],
   "source": [
    "pd.DataFrame(map(lambda v: v[1][1],filter(lambda a: a[1][0]==Action.DE_QUEUE, filter(lambda e: e[0]==Operation.ACTION, game_data))))"
   ],
   "metadata": {
    "collapsed": false,
    "ExecuteTime": {
     "end_time": "2023-09-19T07:25:49.078815700Z",
     "start_time": "2023-09-19T07:25:48.985795600Z"
    }
   }
  },
  {
   "cell_type": "code",
   "execution_count": 342,
   "outputs": [
    {
     "data": {
      "text/plain": "   player_id object_ids  target_id     x     y  sequence\n0          1     [1969]       1968  23.0  55.0    346527",
      "text/html": "<div>\n<style scoped>\n    .dataframe tbody tr th:only-of-type {\n        vertical-align: middle;\n    }\n\n    .dataframe tbody tr th {\n        vertical-align: top;\n    }\n\n    .dataframe thead th {\n        text-align: right;\n    }\n</style>\n<table border=\"1\" class=\"dataframe\">\n  <thead>\n    <tr style=\"text-align: right;\">\n      <th></th>\n      <th>player_id</th>\n      <th>object_ids</th>\n      <th>target_id</th>\n      <th>x</th>\n      <th>y</th>\n      <th>sequence</th>\n    </tr>\n  </thead>\n  <tbody>\n    <tr>\n      <th>0</th>\n      <td>1</td>\n      <td>[1969]</td>\n      <td>1968</td>\n      <td>23.0</td>\n      <td>55.0</td>\n      <td>346527</td>\n    </tr>\n  </tbody>\n</table>\n</div>"
     },
     "execution_count": 342,
     "metadata": {},
     "output_type": "execute_result"
    }
   ],
   "source": [
    "pd.DataFrame(map(lambda v: v[1][1], filter(lambda a: a[1][0]==Action.ORDER, filter(lambda e: e[0]==Operation.ACTION, game_data))))"
   ],
   "metadata": {
    "collapsed": false,
    "ExecuteTime": {
     "end_time": "2023-09-19T07:25:49.344621800Z",
     "start_time": "2023-09-19T07:25:49.254562400Z"
    }
   }
  },
  {
   "cell_type": "code",
   "execution_count": 385,
   "outputs": [
    {
     "data": {
      "text/plain": "    player_id  order_id  slot_id  target_id    x    y object_ids  sequence\n0           1         4        0         -1  0.0  0.0     [1940]     37128\n1           1         4        0         -1  0.0  0.0     [1940]     37401\n2           1         4        0         -1  0.0  0.0     [1940]     37691\n3           1         4        0         -1  0.0  0.0     [1940]     37968\n4           1         4        0         -1  0.0  0.0     [1940]     38249\n5           1         4        0         -1  0.0  0.0     [1940]     38519\n6           1         4        0         -1  0.0  0.0     [1940]     81252\n7           1         4        0         -1  0.0  0.0     [1940]     81510\n8           1         4        0         -1  0.0  0.0     [1940]     81752\n9           1         4        0         -1  0.0  0.0     [1940]     82015\n10          1         4        0         -1  0.0  0.0     [1940]    113755\n11          1         4        0         -1  0.0  0.0     [1940]    114085\n12          1         4        0         -1  0.0  0.0     [1940]    114314\n13          1         4        0         -1  0.0  0.0     [1940]    114583\n14          1         4        0         -1  0.0  0.0     [1940]    114811\n15          1         4        0         -1  0.0  0.0     [1940]    115127\n16          1         4        0         -1  0.0  0.0     [1940]    134937\n17          1         4        0         -1  0.0  0.0     [1940]    135199\n18          1         4        0         -1  0.0  0.0     [1940]    135478\n19          1         4        0         -1  0.0  0.0     [1940]    135795\n20          1         4        0         -1  0.0  0.0     [1940]    136174\n21          1         4        1         -1  0.0  0.0     [1940]    176018\n22          1         4        1         -1  0.0  0.0     [1940]    176271\n23          1         4        1         -1  0.0  0.0     [1940]    176542\n24          1         4        1         -1  0.0  0.0     [1940]    176797\n25          1         4        1         -1  0.0  0.0     [1940]    177024\n26          1         4        1         -1  0.0  0.0     [1940]    177335\n27          1         4        1         -1  0.0  0.0     [1940]    304106\n28          1         4        1         -1  0.0  0.0     [1940]    304378\n29          1         4        1         -1  0.0  0.0     [1940]    304664\n30          1         4        1         -1  0.0  0.0     [1940]    304921\n31          1         4        1         -1  0.0  0.0     [1940]    305990\n32          1         4        1         -1  0.0  0.0     [1940]    311329\n33          1         4        1         -1  0.0  0.0     [1940]    311603\n34          1         4        1         -1  0.0  0.0     [1940]    311895\n35          1         4        1         -1  0.0  0.0     [1940]    317158\n36          1         4        1         -1  0.0  0.0     [1940]    317361\n37          1         4        1         -1  0.0  0.0     [1940]    317724\n38          1         4        1         -1  0.0  0.0     [1940]    322153\n39          1         4        1         -1  0.0  0.0     [1940]    325676\n40          1         4        1         -1  0.0  0.0     [1940]    325925\n41          1         4        0         -1  0.0  0.0     [1940]    350138\n42          1         4        1         -1  0.0  0.0     [1940]    360674\n43          1         4        1         -1  0.0  0.0     [1940]    362090\n44          1         4        1         -1  0.0  0.0     [1940]    384482\n45          1         4        1         -1  0.0  0.0     [1940]    384762\n46          1         4        1         -1  0.0  0.0     [1940]    385075\n47          1         4        1         -1  0.0  0.0     [1940]    385311\n48          1         4        0         -1  0.0  0.0     [1940]    386655\n49          1         4        0         -1  0.0  0.0     [1940]    391588\n50          1         4        0         -1  0.0  0.0     [1940]    398526\n51          1         4        0         -1  0.0  0.0     [1940]    401752\n52          1         4        0         -1  0.0  0.0     [1940]    405697\n53          1         4        0         -1  0.0  0.0     [1940]    407190",
      "text/html": "<div>\n<style scoped>\n    .dataframe tbody tr th:only-of-type {\n        vertical-align: middle;\n    }\n\n    .dataframe tbody tr th {\n        vertical-align: top;\n    }\n\n    .dataframe thead th {\n        text-align: right;\n    }\n</style>\n<table border=\"1\" class=\"dataframe\">\n  <thead>\n    <tr style=\"text-align: right;\">\n      <th></th>\n      <th>player_id</th>\n      <th>order_id</th>\n      <th>slot_id</th>\n      <th>target_id</th>\n      <th>x</th>\n      <th>y</th>\n      <th>object_ids</th>\n      <th>sequence</th>\n    </tr>\n  </thead>\n  <tbody>\n    <tr>\n      <th>0</th>\n      <td>1</td>\n      <td>4</td>\n      <td>0</td>\n      <td>-1</td>\n      <td>0.0</td>\n      <td>0.0</td>\n      <td>[1940]</td>\n      <td>37128</td>\n    </tr>\n    <tr>\n      <th>1</th>\n      <td>1</td>\n      <td>4</td>\n      <td>0</td>\n      <td>-1</td>\n      <td>0.0</td>\n      <td>0.0</td>\n      <td>[1940]</td>\n      <td>37401</td>\n    </tr>\n    <tr>\n      <th>2</th>\n      <td>1</td>\n      <td>4</td>\n      <td>0</td>\n      <td>-1</td>\n      <td>0.0</td>\n      <td>0.0</td>\n      <td>[1940]</td>\n      <td>37691</td>\n    </tr>\n    <tr>\n      <th>3</th>\n      <td>1</td>\n      <td>4</td>\n      <td>0</td>\n      <td>-1</td>\n      <td>0.0</td>\n      <td>0.0</td>\n      <td>[1940]</td>\n      <td>37968</td>\n    </tr>\n    <tr>\n      <th>4</th>\n      <td>1</td>\n      <td>4</td>\n      <td>0</td>\n      <td>-1</td>\n      <td>0.0</td>\n      <td>0.0</td>\n      <td>[1940]</td>\n      <td>38249</td>\n    </tr>\n    <tr>\n      <th>5</th>\n      <td>1</td>\n      <td>4</td>\n      <td>0</td>\n      <td>-1</td>\n      <td>0.0</td>\n      <td>0.0</td>\n      <td>[1940]</td>\n      <td>38519</td>\n    </tr>\n    <tr>\n      <th>6</th>\n      <td>1</td>\n      <td>4</td>\n      <td>0</td>\n      <td>-1</td>\n      <td>0.0</td>\n      <td>0.0</td>\n      <td>[1940]</td>\n      <td>81252</td>\n    </tr>\n    <tr>\n      <th>7</th>\n      <td>1</td>\n      <td>4</td>\n      <td>0</td>\n      <td>-1</td>\n      <td>0.0</td>\n      <td>0.0</td>\n      <td>[1940]</td>\n      <td>81510</td>\n    </tr>\n    <tr>\n      <th>8</th>\n      <td>1</td>\n      <td>4</td>\n      <td>0</td>\n      <td>-1</td>\n      <td>0.0</td>\n      <td>0.0</td>\n      <td>[1940]</td>\n      <td>81752</td>\n    </tr>\n    <tr>\n      <th>9</th>\n      <td>1</td>\n      <td>4</td>\n      <td>0</td>\n      <td>-1</td>\n      <td>0.0</td>\n      <td>0.0</td>\n      <td>[1940]</td>\n      <td>82015</td>\n    </tr>\n    <tr>\n      <th>10</th>\n      <td>1</td>\n      <td>4</td>\n      <td>0</td>\n      <td>-1</td>\n      <td>0.0</td>\n      <td>0.0</td>\n      <td>[1940]</td>\n      <td>113755</td>\n    </tr>\n    <tr>\n      <th>11</th>\n      <td>1</td>\n      <td>4</td>\n      <td>0</td>\n      <td>-1</td>\n      <td>0.0</td>\n      <td>0.0</td>\n      <td>[1940]</td>\n      <td>114085</td>\n    </tr>\n    <tr>\n      <th>12</th>\n      <td>1</td>\n      <td>4</td>\n      <td>0</td>\n      <td>-1</td>\n      <td>0.0</td>\n      <td>0.0</td>\n      <td>[1940]</td>\n      <td>114314</td>\n    </tr>\n    <tr>\n      <th>13</th>\n      <td>1</td>\n      <td>4</td>\n      <td>0</td>\n      <td>-1</td>\n      <td>0.0</td>\n      <td>0.0</td>\n      <td>[1940]</td>\n      <td>114583</td>\n    </tr>\n    <tr>\n      <th>14</th>\n      <td>1</td>\n      <td>4</td>\n      <td>0</td>\n      <td>-1</td>\n      <td>0.0</td>\n      <td>0.0</td>\n      <td>[1940]</td>\n      <td>114811</td>\n    </tr>\n    <tr>\n      <th>15</th>\n      <td>1</td>\n      <td>4</td>\n      <td>0</td>\n      <td>-1</td>\n      <td>0.0</td>\n      <td>0.0</td>\n      <td>[1940]</td>\n      <td>115127</td>\n    </tr>\n    <tr>\n      <th>16</th>\n      <td>1</td>\n      <td>4</td>\n      <td>0</td>\n      <td>-1</td>\n      <td>0.0</td>\n      <td>0.0</td>\n      <td>[1940]</td>\n      <td>134937</td>\n    </tr>\n    <tr>\n      <th>17</th>\n      <td>1</td>\n      <td>4</td>\n      <td>0</td>\n      <td>-1</td>\n      <td>0.0</td>\n      <td>0.0</td>\n      <td>[1940]</td>\n      <td>135199</td>\n    </tr>\n    <tr>\n      <th>18</th>\n      <td>1</td>\n      <td>4</td>\n      <td>0</td>\n      <td>-1</td>\n      <td>0.0</td>\n      <td>0.0</td>\n      <td>[1940]</td>\n      <td>135478</td>\n    </tr>\n    <tr>\n      <th>19</th>\n      <td>1</td>\n      <td>4</td>\n      <td>0</td>\n      <td>-1</td>\n      <td>0.0</td>\n      <td>0.0</td>\n      <td>[1940]</td>\n      <td>135795</td>\n    </tr>\n    <tr>\n      <th>20</th>\n      <td>1</td>\n      <td>4</td>\n      <td>0</td>\n      <td>-1</td>\n      <td>0.0</td>\n      <td>0.0</td>\n      <td>[1940]</td>\n      <td>136174</td>\n    </tr>\n    <tr>\n      <th>21</th>\n      <td>1</td>\n      <td>4</td>\n      <td>1</td>\n      <td>-1</td>\n      <td>0.0</td>\n      <td>0.0</td>\n      <td>[1940]</td>\n      <td>176018</td>\n    </tr>\n    <tr>\n      <th>22</th>\n      <td>1</td>\n      <td>4</td>\n      <td>1</td>\n      <td>-1</td>\n      <td>0.0</td>\n      <td>0.0</td>\n      <td>[1940]</td>\n      <td>176271</td>\n    </tr>\n    <tr>\n      <th>23</th>\n      <td>1</td>\n      <td>4</td>\n      <td>1</td>\n      <td>-1</td>\n      <td>0.0</td>\n      <td>0.0</td>\n      <td>[1940]</td>\n      <td>176542</td>\n    </tr>\n    <tr>\n      <th>24</th>\n      <td>1</td>\n      <td>4</td>\n      <td>1</td>\n      <td>-1</td>\n      <td>0.0</td>\n      <td>0.0</td>\n      <td>[1940]</td>\n      <td>176797</td>\n    </tr>\n    <tr>\n      <th>25</th>\n      <td>1</td>\n      <td>4</td>\n      <td>1</td>\n      <td>-1</td>\n      <td>0.0</td>\n      <td>0.0</td>\n      <td>[1940]</td>\n      <td>177024</td>\n    </tr>\n    <tr>\n      <th>26</th>\n      <td>1</td>\n      <td>4</td>\n      <td>1</td>\n      <td>-1</td>\n      <td>0.0</td>\n      <td>0.0</td>\n      <td>[1940]</td>\n      <td>177335</td>\n    </tr>\n    <tr>\n      <th>27</th>\n      <td>1</td>\n      <td>4</td>\n      <td>1</td>\n      <td>-1</td>\n      <td>0.0</td>\n      <td>0.0</td>\n      <td>[1940]</td>\n      <td>304106</td>\n    </tr>\n    <tr>\n      <th>28</th>\n      <td>1</td>\n      <td>4</td>\n      <td>1</td>\n      <td>-1</td>\n      <td>0.0</td>\n      <td>0.0</td>\n      <td>[1940]</td>\n      <td>304378</td>\n    </tr>\n    <tr>\n      <th>29</th>\n      <td>1</td>\n      <td>4</td>\n      <td>1</td>\n      <td>-1</td>\n      <td>0.0</td>\n      <td>0.0</td>\n      <td>[1940]</td>\n      <td>304664</td>\n    </tr>\n    <tr>\n      <th>30</th>\n      <td>1</td>\n      <td>4</td>\n      <td>1</td>\n      <td>-1</td>\n      <td>0.0</td>\n      <td>0.0</td>\n      <td>[1940]</td>\n      <td>304921</td>\n    </tr>\n    <tr>\n      <th>31</th>\n      <td>1</td>\n      <td>4</td>\n      <td>1</td>\n      <td>-1</td>\n      <td>0.0</td>\n      <td>0.0</td>\n      <td>[1940]</td>\n      <td>305990</td>\n    </tr>\n    <tr>\n      <th>32</th>\n      <td>1</td>\n      <td>4</td>\n      <td>1</td>\n      <td>-1</td>\n      <td>0.0</td>\n      <td>0.0</td>\n      <td>[1940]</td>\n      <td>311329</td>\n    </tr>\n    <tr>\n      <th>33</th>\n      <td>1</td>\n      <td>4</td>\n      <td>1</td>\n      <td>-1</td>\n      <td>0.0</td>\n      <td>0.0</td>\n      <td>[1940]</td>\n      <td>311603</td>\n    </tr>\n    <tr>\n      <th>34</th>\n      <td>1</td>\n      <td>4</td>\n      <td>1</td>\n      <td>-1</td>\n      <td>0.0</td>\n      <td>0.0</td>\n      <td>[1940]</td>\n      <td>311895</td>\n    </tr>\n    <tr>\n      <th>35</th>\n      <td>1</td>\n      <td>4</td>\n      <td>1</td>\n      <td>-1</td>\n      <td>0.0</td>\n      <td>0.0</td>\n      <td>[1940]</td>\n      <td>317158</td>\n    </tr>\n    <tr>\n      <th>36</th>\n      <td>1</td>\n      <td>4</td>\n      <td>1</td>\n      <td>-1</td>\n      <td>0.0</td>\n      <td>0.0</td>\n      <td>[1940]</td>\n      <td>317361</td>\n    </tr>\n    <tr>\n      <th>37</th>\n      <td>1</td>\n      <td>4</td>\n      <td>1</td>\n      <td>-1</td>\n      <td>0.0</td>\n      <td>0.0</td>\n      <td>[1940]</td>\n      <td>317724</td>\n    </tr>\n    <tr>\n      <th>38</th>\n      <td>1</td>\n      <td>4</td>\n      <td>1</td>\n      <td>-1</td>\n      <td>0.0</td>\n      <td>0.0</td>\n      <td>[1940]</td>\n      <td>322153</td>\n    </tr>\n    <tr>\n      <th>39</th>\n      <td>1</td>\n      <td>4</td>\n      <td>1</td>\n      <td>-1</td>\n      <td>0.0</td>\n      <td>0.0</td>\n      <td>[1940]</td>\n      <td>325676</td>\n    </tr>\n    <tr>\n      <th>40</th>\n      <td>1</td>\n      <td>4</td>\n      <td>1</td>\n      <td>-1</td>\n      <td>0.0</td>\n      <td>0.0</td>\n      <td>[1940]</td>\n      <td>325925</td>\n    </tr>\n    <tr>\n      <th>41</th>\n      <td>1</td>\n      <td>4</td>\n      <td>0</td>\n      <td>-1</td>\n      <td>0.0</td>\n      <td>0.0</td>\n      <td>[1940]</td>\n      <td>350138</td>\n    </tr>\n    <tr>\n      <th>42</th>\n      <td>1</td>\n      <td>4</td>\n      <td>1</td>\n      <td>-1</td>\n      <td>0.0</td>\n      <td>0.0</td>\n      <td>[1940]</td>\n      <td>360674</td>\n    </tr>\n    <tr>\n      <th>43</th>\n      <td>1</td>\n      <td>4</td>\n      <td>1</td>\n      <td>-1</td>\n      <td>0.0</td>\n      <td>0.0</td>\n      <td>[1940]</td>\n      <td>362090</td>\n    </tr>\n    <tr>\n      <th>44</th>\n      <td>1</td>\n      <td>4</td>\n      <td>1</td>\n      <td>-1</td>\n      <td>0.0</td>\n      <td>0.0</td>\n      <td>[1940]</td>\n      <td>384482</td>\n    </tr>\n    <tr>\n      <th>45</th>\n      <td>1</td>\n      <td>4</td>\n      <td>1</td>\n      <td>-1</td>\n      <td>0.0</td>\n      <td>0.0</td>\n      <td>[1940]</td>\n      <td>384762</td>\n    </tr>\n    <tr>\n      <th>46</th>\n      <td>1</td>\n      <td>4</td>\n      <td>1</td>\n      <td>-1</td>\n      <td>0.0</td>\n      <td>0.0</td>\n      <td>[1940]</td>\n      <td>385075</td>\n    </tr>\n    <tr>\n      <th>47</th>\n      <td>1</td>\n      <td>4</td>\n      <td>1</td>\n      <td>-1</td>\n      <td>0.0</td>\n      <td>0.0</td>\n      <td>[1940]</td>\n      <td>385311</td>\n    </tr>\n    <tr>\n      <th>48</th>\n      <td>1</td>\n      <td>4</td>\n      <td>0</td>\n      <td>-1</td>\n      <td>0.0</td>\n      <td>0.0</td>\n      <td>[1940]</td>\n      <td>386655</td>\n    </tr>\n    <tr>\n      <th>49</th>\n      <td>1</td>\n      <td>4</td>\n      <td>0</td>\n      <td>-1</td>\n      <td>0.0</td>\n      <td>0.0</td>\n      <td>[1940]</td>\n      <td>391588</td>\n    </tr>\n    <tr>\n      <th>50</th>\n      <td>1</td>\n      <td>4</td>\n      <td>0</td>\n      <td>-1</td>\n      <td>0.0</td>\n      <td>0.0</td>\n      <td>[1940]</td>\n      <td>398526</td>\n    </tr>\n    <tr>\n      <th>51</th>\n      <td>1</td>\n      <td>4</td>\n      <td>0</td>\n      <td>-1</td>\n      <td>0.0</td>\n      <td>0.0</td>\n      <td>[1940]</td>\n      <td>401752</td>\n    </tr>\n    <tr>\n      <th>52</th>\n      <td>1</td>\n      <td>4</td>\n      <td>0</td>\n      <td>-1</td>\n      <td>0.0</td>\n      <td>0.0</td>\n      <td>[1940]</td>\n      <td>405697</td>\n    </tr>\n    <tr>\n      <th>53</th>\n      <td>1</td>\n      <td>4</td>\n      <td>0</td>\n      <td>-1</td>\n      <td>0.0</td>\n      <td>0.0</td>\n      <td>[1940]</td>\n      <td>407190</td>\n    </tr>\n  </tbody>\n</table>\n</div>"
     },
     "execution_count": 385,
     "metadata": {},
     "output_type": "execute_result"
    }
   ],
   "source": [
    "pd.DataFrame(map(lambda v: v[1][1],filter(lambda a: a[1][0]==Action.SPECIAL, filter(lambda e: e[0]==Operation.ACTION, game_data))))"
   ],
   "metadata": {
    "collapsed": false,
    "ExecuteTime": {
     "end_time": "2023-09-19T08:10:16.241455900Z",
     "start_time": "2023-09-19T08:10:16.222912900Z"
    }
   }
  },
  {
   "cell_type": "code",
   "execution_count": 344,
   "outputs": [
    {
     "data": {
      "text/plain": "    player_id  technology_id object_ids  sequence\n0           1             22     [1940]    138741\n1           1            101     [1940]    142565\n2           1            213     [1940]    307164\n3           1            213     [1940]    313958\n4           1            213     [1940]    320859\n5           1            213     [1940]    327316\n6           1              8     [1940]    351168\n7           1            213     [1940]    358736\n8           1            102     [1940]    382823\n9           1            102     [1940]    388342\n10          1            102     [1940]    393237\n11          1            102     [1940]    400137\n12          1            102     [1940]    408175\n13          1            213     [1940]    579214\n14          1            280     [1940]    580713",
      "text/html": "<div>\n<style scoped>\n    .dataframe tbody tr th:only-of-type {\n        vertical-align: middle;\n    }\n\n    .dataframe tbody tr th {\n        vertical-align: top;\n    }\n\n    .dataframe thead th {\n        text-align: right;\n    }\n</style>\n<table border=\"1\" class=\"dataframe\">\n  <thead>\n    <tr style=\"text-align: right;\">\n      <th></th>\n      <th>player_id</th>\n      <th>technology_id</th>\n      <th>object_ids</th>\n      <th>sequence</th>\n    </tr>\n  </thead>\n  <tbody>\n    <tr>\n      <th>0</th>\n      <td>1</td>\n      <td>22</td>\n      <td>[1940]</td>\n      <td>138741</td>\n    </tr>\n    <tr>\n      <th>1</th>\n      <td>1</td>\n      <td>101</td>\n      <td>[1940]</td>\n      <td>142565</td>\n    </tr>\n    <tr>\n      <th>2</th>\n      <td>1</td>\n      <td>213</td>\n      <td>[1940]</td>\n      <td>307164</td>\n    </tr>\n    <tr>\n      <th>3</th>\n      <td>1</td>\n      <td>213</td>\n      <td>[1940]</td>\n      <td>313958</td>\n    </tr>\n    <tr>\n      <th>4</th>\n      <td>1</td>\n      <td>213</td>\n      <td>[1940]</td>\n      <td>320859</td>\n    </tr>\n    <tr>\n      <th>5</th>\n      <td>1</td>\n      <td>213</td>\n      <td>[1940]</td>\n      <td>327316</td>\n    </tr>\n    <tr>\n      <th>6</th>\n      <td>1</td>\n      <td>8</td>\n      <td>[1940]</td>\n      <td>351168</td>\n    </tr>\n    <tr>\n      <th>7</th>\n      <td>1</td>\n      <td>213</td>\n      <td>[1940]</td>\n      <td>358736</td>\n    </tr>\n    <tr>\n      <th>8</th>\n      <td>1</td>\n      <td>102</td>\n      <td>[1940]</td>\n      <td>382823</td>\n    </tr>\n    <tr>\n      <th>9</th>\n      <td>1</td>\n      <td>102</td>\n      <td>[1940]</td>\n      <td>388342</td>\n    </tr>\n    <tr>\n      <th>10</th>\n      <td>1</td>\n      <td>102</td>\n      <td>[1940]</td>\n      <td>393237</td>\n    </tr>\n    <tr>\n      <th>11</th>\n      <td>1</td>\n      <td>102</td>\n      <td>[1940]</td>\n      <td>400137</td>\n    </tr>\n    <tr>\n      <th>12</th>\n      <td>1</td>\n      <td>102</td>\n      <td>[1940]</td>\n      <td>408175</td>\n    </tr>\n    <tr>\n      <th>13</th>\n      <td>1</td>\n      <td>213</td>\n      <td>[1940]</td>\n      <td>579214</td>\n    </tr>\n    <tr>\n      <th>14</th>\n      <td>1</td>\n      <td>280</td>\n      <td>[1940]</td>\n      <td>580713</td>\n    </tr>\n  </tbody>\n</table>\n</div>"
     },
     "execution_count": 344,
     "metadata": {},
     "output_type": "execute_result"
    }
   ],
   "source": [
    "pd.DataFrame(map(lambda v: v[1][1],filter(lambda a: a[1][0]==Action.RESEARCH, filter(lambda e: e[0]==Operation.ACTION, game_data))))"
   ],
   "metadata": {
    "collapsed": false,
    "ExecuteTime": {
     "end_time": "2023-09-19T07:25:49.681323100Z",
     "start_time": "2023-09-19T07:25:49.626739500Z"
    }
   }
  },
  {
   "cell_type": "code",
   "execution_count": 345,
   "outputs": [
    {
     "data": {
      "text/plain": "    player_id object_ids  amount  unit_id  sequence\n0           1     [1940]       1       83      1441\n1           1     [1940]       1       83      1691\n2           1     [1940]       1       83      1995\n3           1     [1940]       1       83      2202\n4           1     [1940]       1       83     12900\n5           1     [1940]       1       83     13222\n6           1     [1940]       1       83     13596\n7           1     [1940]       1       83     47681\n8           1     [1940]       1       83     47962\n9           1     [1940]       1       83     48244\n10          1     [1940]       1       83     48484\n11          1     [1940]       1       83     48854\n12          1     [1940]       1       83     85313\n13          1     [1940]       1       83     85590\n14          1     [1940]       1       83     85856\n15          1     [1940]       1       83     86199\n16          1     [1940]       1       83     86432\n17          1     [1940]       1       83     86756\n18          1     [1940]       1       83     87140\n19          1     [1940]       1       83    119321\n20          1     [1940]       1       83    119617\n21          1     [1940]       1       83    119892\n22          1     [1940]       1       83    120234\n23          1     [1940]       1       83    120645\n24          1     [1940]       1       83    144053\n25          1     [1940]       1       83    144338\n26          1     [1940]       1       83    144597\n27          1     [1940]       1       83    144877\n28          1     [1940]       1       83    145163\n29          1     [1940]       1       83    145440\n30          1     [1940]       1       83    179276\n31          1     [1940]       1       83    179562\n32          1     [1940]       1       83    179796\n33          1     [1940]       1       83    180063\n34          1     [1940]       1       83    180387\n35          1     [1940]       1       83    180630\n36          1     [1940]       1       83    310058\n37          1     [1940]       1       83    310281\n38          1     [1940]       1       83    314895\n39          1     [1940]       1       83    315080\n40          1     [1940]       1       83    315578\n41          1     [1940]       1       83    323373\n42          1     [1940]       1       83    323674\n43          1     [1940]       1       83    356317\n44          1     [1940]       1       83    365362\n45          1     [1940]       1       83    365601\n46          1     [1940]       1       83    365860\n47          1     [1940]       1       83    366128\n48          1     [1940]       1       83    396792\n49          1     [1940]       1       83    403919\n50          1     [1940]       1       83    467317\n51          1     [1940]       1       83    467533",
      "text/html": "<div>\n<style scoped>\n    .dataframe tbody tr th:only-of-type {\n        vertical-align: middle;\n    }\n\n    .dataframe tbody tr th {\n        vertical-align: top;\n    }\n\n    .dataframe thead th {\n        text-align: right;\n    }\n</style>\n<table border=\"1\" class=\"dataframe\">\n  <thead>\n    <tr style=\"text-align: right;\">\n      <th></th>\n      <th>player_id</th>\n      <th>object_ids</th>\n      <th>amount</th>\n      <th>unit_id</th>\n      <th>sequence</th>\n    </tr>\n  </thead>\n  <tbody>\n    <tr>\n      <th>0</th>\n      <td>1</td>\n      <td>[1940]</td>\n      <td>1</td>\n      <td>83</td>\n      <td>1441</td>\n    </tr>\n    <tr>\n      <th>1</th>\n      <td>1</td>\n      <td>[1940]</td>\n      <td>1</td>\n      <td>83</td>\n      <td>1691</td>\n    </tr>\n    <tr>\n      <th>2</th>\n      <td>1</td>\n      <td>[1940]</td>\n      <td>1</td>\n      <td>83</td>\n      <td>1995</td>\n    </tr>\n    <tr>\n      <th>3</th>\n      <td>1</td>\n      <td>[1940]</td>\n      <td>1</td>\n      <td>83</td>\n      <td>2202</td>\n    </tr>\n    <tr>\n      <th>4</th>\n      <td>1</td>\n      <td>[1940]</td>\n      <td>1</td>\n      <td>83</td>\n      <td>12900</td>\n    </tr>\n    <tr>\n      <th>5</th>\n      <td>1</td>\n      <td>[1940]</td>\n      <td>1</td>\n      <td>83</td>\n      <td>13222</td>\n    </tr>\n    <tr>\n      <th>6</th>\n      <td>1</td>\n      <td>[1940]</td>\n      <td>1</td>\n      <td>83</td>\n      <td>13596</td>\n    </tr>\n    <tr>\n      <th>7</th>\n      <td>1</td>\n      <td>[1940]</td>\n      <td>1</td>\n      <td>83</td>\n      <td>47681</td>\n    </tr>\n    <tr>\n      <th>8</th>\n      <td>1</td>\n      <td>[1940]</td>\n      <td>1</td>\n      <td>83</td>\n      <td>47962</td>\n    </tr>\n    <tr>\n      <th>9</th>\n      <td>1</td>\n      <td>[1940]</td>\n      <td>1</td>\n      <td>83</td>\n      <td>48244</td>\n    </tr>\n    <tr>\n      <th>10</th>\n      <td>1</td>\n      <td>[1940]</td>\n      <td>1</td>\n      <td>83</td>\n      <td>48484</td>\n    </tr>\n    <tr>\n      <th>11</th>\n      <td>1</td>\n      <td>[1940]</td>\n      <td>1</td>\n      <td>83</td>\n      <td>48854</td>\n    </tr>\n    <tr>\n      <th>12</th>\n      <td>1</td>\n      <td>[1940]</td>\n      <td>1</td>\n      <td>83</td>\n      <td>85313</td>\n    </tr>\n    <tr>\n      <th>13</th>\n      <td>1</td>\n      <td>[1940]</td>\n      <td>1</td>\n      <td>83</td>\n      <td>85590</td>\n    </tr>\n    <tr>\n      <th>14</th>\n      <td>1</td>\n      <td>[1940]</td>\n      <td>1</td>\n      <td>83</td>\n      <td>85856</td>\n    </tr>\n    <tr>\n      <th>15</th>\n      <td>1</td>\n      <td>[1940]</td>\n      <td>1</td>\n      <td>83</td>\n      <td>86199</td>\n    </tr>\n    <tr>\n      <th>16</th>\n      <td>1</td>\n      <td>[1940]</td>\n      <td>1</td>\n      <td>83</td>\n      <td>86432</td>\n    </tr>\n    <tr>\n      <th>17</th>\n      <td>1</td>\n      <td>[1940]</td>\n      <td>1</td>\n      <td>83</td>\n      <td>86756</td>\n    </tr>\n    <tr>\n      <th>18</th>\n      <td>1</td>\n      <td>[1940]</td>\n      <td>1</td>\n      <td>83</td>\n      <td>87140</td>\n    </tr>\n    <tr>\n      <th>19</th>\n      <td>1</td>\n      <td>[1940]</td>\n      <td>1</td>\n      <td>83</td>\n      <td>119321</td>\n    </tr>\n    <tr>\n      <th>20</th>\n      <td>1</td>\n      <td>[1940]</td>\n      <td>1</td>\n      <td>83</td>\n      <td>119617</td>\n    </tr>\n    <tr>\n      <th>21</th>\n      <td>1</td>\n      <td>[1940]</td>\n      <td>1</td>\n      <td>83</td>\n      <td>119892</td>\n    </tr>\n    <tr>\n      <th>22</th>\n      <td>1</td>\n      <td>[1940]</td>\n      <td>1</td>\n      <td>83</td>\n      <td>120234</td>\n    </tr>\n    <tr>\n      <th>23</th>\n      <td>1</td>\n      <td>[1940]</td>\n      <td>1</td>\n      <td>83</td>\n      <td>120645</td>\n    </tr>\n    <tr>\n      <th>24</th>\n      <td>1</td>\n      <td>[1940]</td>\n      <td>1</td>\n      <td>83</td>\n      <td>144053</td>\n    </tr>\n    <tr>\n      <th>25</th>\n      <td>1</td>\n      <td>[1940]</td>\n      <td>1</td>\n      <td>83</td>\n      <td>144338</td>\n    </tr>\n    <tr>\n      <th>26</th>\n      <td>1</td>\n      <td>[1940]</td>\n      <td>1</td>\n      <td>83</td>\n      <td>144597</td>\n    </tr>\n    <tr>\n      <th>27</th>\n      <td>1</td>\n      <td>[1940]</td>\n      <td>1</td>\n      <td>83</td>\n      <td>144877</td>\n    </tr>\n    <tr>\n      <th>28</th>\n      <td>1</td>\n      <td>[1940]</td>\n      <td>1</td>\n      <td>83</td>\n      <td>145163</td>\n    </tr>\n    <tr>\n      <th>29</th>\n      <td>1</td>\n      <td>[1940]</td>\n      <td>1</td>\n      <td>83</td>\n      <td>145440</td>\n    </tr>\n    <tr>\n      <th>30</th>\n      <td>1</td>\n      <td>[1940]</td>\n      <td>1</td>\n      <td>83</td>\n      <td>179276</td>\n    </tr>\n    <tr>\n      <th>31</th>\n      <td>1</td>\n      <td>[1940]</td>\n      <td>1</td>\n      <td>83</td>\n      <td>179562</td>\n    </tr>\n    <tr>\n      <th>32</th>\n      <td>1</td>\n      <td>[1940]</td>\n      <td>1</td>\n      <td>83</td>\n      <td>179796</td>\n    </tr>\n    <tr>\n      <th>33</th>\n      <td>1</td>\n      <td>[1940]</td>\n      <td>1</td>\n      <td>83</td>\n      <td>180063</td>\n    </tr>\n    <tr>\n      <th>34</th>\n      <td>1</td>\n      <td>[1940]</td>\n      <td>1</td>\n      <td>83</td>\n      <td>180387</td>\n    </tr>\n    <tr>\n      <th>35</th>\n      <td>1</td>\n      <td>[1940]</td>\n      <td>1</td>\n      <td>83</td>\n      <td>180630</td>\n    </tr>\n    <tr>\n      <th>36</th>\n      <td>1</td>\n      <td>[1940]</td>\n      <td>1</td>\n      <td>83</td>\n      <td>310058</td>\n    </tr>\n    <tr>\n      <th>37</th>\n      <td>1</td>\n      <td>[1940]</td>\n      <td>1</td>\n      <td>83</td>\n      <td>310281</td>\n    </tr>\n    <tr>\n      <th>38</th>\n      <td>1</td>\n      <td>[1940]</td>\n      <td>1</td>\n      <td>83</td>\n      <td>314895</td>\n    </tr>\n    <tr>\n      <th>39</th>\n      <td>1</td>\n      <td>[1940]</td>\n      <td>1</td>\n      <td>83</td>\n      <td>315080</td>\n    </tr>\n    <tr>\n      <th>40</th>\n      <td>1</td>\n      <td>[1940]</td>\n      <td>1</td>\n      <td>83</td>\n      <td>315578</td>\n    </tr>\n    <tr>\n      <th>41</th>\n      <td>1</td>\n      <td>[1940]</td>\n      <td>1</td>\n      <td>83</td>\n      <td>323373</td>\n    </tr>\n    <tr>\n      <th>42</th>\n      <td>1</td>\n      <td>[1940]</td>\n      <td>1</td>\n      <td>83</td>\n      <td>323674</td>\n    </tr>\n    <tr>\n      <th>43</th>\n      <td>1</td>\n      <td>[1940]</td>\n      <td>1</td>\n      <td>83</td>\n      <td>356317</td>\n    </tr>\n    <tr>\n      <th>44</th>\n      <td>1</td>\n      <td>[1940]</td>\n      <td>1</td>\n      <td>83</td>\n      <td>365362</td>\n    </tr>\n    <tr>\n      <th>45</th>\n      <td>1</td>\n      <td>[1940]</td>\n      <td>1</td>\n      <td>83</td>\n      <td>365601</td>\n    </tr>\n    <tr>\n      <th>46</th>\n      <td>1</td>\n      <td>[1940]</td>\n      <td>1</td>\n      <td>83</td>\n      <td>365860</td>\n    </tr>\n    <tr>\n      <th>47</th>\n      <td>1</td>\n      <td>[1940]</td>\n      <td>1</td>\n      <td>83</td>\n      <td>366128</td>\n    </tr>\n    <tr>\n      <th>48</th>\n      <td>1</td>\n      <td>[1940]</td>\n      <td>1</td>\n      <td>83</td>\n      <td>396792</td>\n    </tr>\n    <tr>\n      <th>49</th>\n      <td>1</td>\n      <td>[1940]</td>\n      <td>1</td>\n      <td>83</td>\n      <td>403919</td>\n    </tr>\n    <tr>\n      <th>50</th>\n      <td>1</td>\n      <td>[1940]</td>\n      <td>1</td>\n      <td>83</td>\n      <td>467317</td>\n    </tr>\n    <tr>\n      <th>51</th>\n      <td>1</td>\n      <td>[1940]</td>\n      <td>1</td>\n      <td>83</td>\n      <td>467533</td>\n    </tr>\n  </tbody>\n</table>\n</div>"
     },
     "execution_count": 345,
     "metadata": {},
     "output_type": "execute_result"
    }
   ],
   "source": [
    "queue_actions = pd.DataFrame(map(lambda v: v[1][1],filter(lambda a: a[1][0]==Action.DE_QUEUE, filter(lambda e: e[0]==Operation.ACTION, game_data))))\n",
    "queue_actions"
   ],
   "metadata": {
    "collapsed": false,
    "ExecuteTime": {
     "end_time": "2023-09-19T07:25:49.987341200Z",
     "start_time": "2023-09-19T07:25:49.791590200Z"
    }
   }
  },
  {
   "cell_type": "code",
   "execution_count": 346,
   "outputs": [
    {
     "data": {
      "text/plain": "array([], dtype=int64)"
     },
     "execution_count": 346,
     "metadata": {},
     "output_type": "execute_result"
    }
   ],
   "source": [
    "p1_tc_queues = queue_actions[list(map(lambda v: 2698 in v, queue_actions.object_ids))]\n",
    "p1_tc_queues.unit_id.unique()"
   ],
   "metadata": {
    "collapsed": false,
    "ExecuteTime": {
     "end_time": "2023-09-19T07:25:50.091353Z",
     "start_time": "2023-09-19T07:25:49.982579900Z"
    }
   }
  },
  {
   "cell_type": "code",
   "execution_count": 347,
   "outputs": [],
   "source": [
    "\n",
    "from enum import Enum\n",
    "\n",
    "class Ages(Enum):\n",
    "    DARK = 0\n",
    "    FEUDAL = 1\n",
    "    CASTLE = 2\n",
    "    IMPERIAL = 3\n",
    "\n",
    "class EntityIDs(Enum):\n",
    "    # Units\n",
    "    VILLAGER = 83\n",
    "    \n",
    "    # Technologies\n",
    "    LOOM = 22\n",
    "    WHEELBARROW = 213 \n",
    "    HANDCART = -1000000000 # TODO: find actual id\n",
    "    TOWNWATCH = 8 \n",
    "    TOWNPATROL = -10000000000 # TODO: find actual id\n",
    "    FEUDAL_AGE = 101\n",
    "    CASTLE_AGE = 102\n",
    "    IMPERIAL_AGE = -100000000000 # TODO: find actual id\n",
    "    \n",
    "TRACKED_TECHNOLOGIES = [EntityIDs.LOOM, EntityIDs.WHEELBARROW, EntityIDs.HANDCART, EntityIDs.TOWNWATCH, EntityIDs.TOWNPATROL, EntityIDs.FEUDAL_AGE, EntityIDs.CASTLE_AGE, EntityIDs.IMPERIAL_AGE]\n",
    "\n",
    "BUILD_TIMES={\n",
    "    # Dark age\n",
    "    EntityIDs.VILLAGER.value:       25000,\n",
    "    EntityIDs.LOOM.value:           25000,\n",
    "    EntityIDs.FEUDAL_AGE.value:     130000,\n",
    "    \n",
    "    # Feudal age\n",
    "    EntityIDs.WHEELBARROW.value:    75000,\n",
    "    EntityIDs.TOWNWATCH.value:      25000,\n",
    "    EntityIDs.CASTLE_AGE.value:     160000,\n",
    "    \n",
    "    # Castle age\n",
    "    EntityIDs.TOWNPATROL.value:     40000,\n",
    "    EntityIDs.HANDCART.value:       55000,\n",
    "    EntityIDs.IMPERIAL_AGE.value:   190000,\n",
    "}\n"
   ],
   "metadata": {
    "collapsed": false,
    "ExecuteTime": {
     "end_time": "2023-09-19T07:25:50.466442700Z",
     "start_time": "2023-09-19T07:25:50.202654500Z"
    }
   }
  },
  {
   "cell_type": "code",
   "execution_count": 348,
   "outputs": [
    {
     "data": {
      "text/plain": "[[83,\n  83,\n  83,\n  83,\n  83,\n  83,\n  83,\n  83,\n  83,\n  83,\n  83,\n  83,\n  83,\n  83,\n  83,\n  83,\n  83,\n  83,\n  83,\n  83,\n  83,\n  83,\n  83,\n  83,\n  22,\n  101,\n  83,\n  83,\n  83,\n  83,\n  83,\n  83,\n  83,\n  83,\n  83,\n  83,\n  83,\n  83,\n  213,\n  83,\n  83,\n  213,\n  83,\n  83,\n  83,\n  213,\n  83,\n  83,\n  213,\n  8,\n  83,\n  213,\n  83,\n  83,\n  83,\n  83,\n  102,\n  102,\n  102,\n  83,\n  102,\n  83,\n  102,\n  83,\n  83,\n  213],\n [],\n [],\n [],\n [],\n [],\n [],\n []]"
     },
     "execution_count": 348,
     "metadata": {},
     "output_type": "execute_result"
    }
   ],
   "source": [
    "player_tc_queues=[[],[],[],[],[],[],[],[]] # max 8 players, indexed by player_id-1\n",
    "tc_ids = [None, None, None, None, None, None, None, None]\n",
    "\n",
    "for action, payload in map(lambda x: x[1], filter(lambda x: x[0]==Operation.ACTION, game_data)):\n",
    "    if action == fast.Action.DE_QUEUE and payload[\"unit_id\"] == EntityIDs.VILLAGER.value:\n",
    "        player_tc_queues[payload[\"player_id\"]-1].append(payload[\"unit_id\"])\n",
    "    if action == fast.Action.RESEARCH and payload[\"technology_id\"] in map(lambda v: v.value, TRACKED_TECHNOLOGIES):\n",
    "        player_tc_queues[payload[\"player_id\"]-1].append(payload[\"technology_id\"])\n",
    "        \n",
    "        \n",
    "player_tc_queues"
   ],
   "metadata": {
    "collapsed": false,
    "ExecuteTime": {
     "end_time": "2023-09-19T07:25:50.622738100Z",
     "start_time": "2023-09-19T07:25:50.378361300Z"
    }
   }
  },
  {
   "cell_type": "markdown",
   "source": [
    "### Detect Age Up"
   ],
   "metadata": {
    "collapsed": false
   }
  },
  {
   "cell_type": "code",
   "execution_count": 349,
   "outputs": [
    {
     "name": "stdout",
     "output_type": "stream",
     "text": [
      "(None, None)\n",
      "(None, None)\n",
      "(None, None)\n",
      "(None, None)\n",
      "(None, None)\n",
      "(1, <Ages.FEUDAL: 1>)\n",
      "(None, None)\n",
      "(1, <Ages.CASTLE: 2>)\n",
      "(None, None)\n",
      "(None, None)\n"
     ]
    }
   ],
   "source": [
    "import ast\n",
    "\n",
    "chat = chats[0][1]\n",
    "def get_age_up_from_chat(chat):\n",
    "    payload = ast.literal_eval(chat.decode(\"utf-8\"))\n",
    "    if payload[\"message\"].endswith(\"advanced to the Feudal Age.\"):\n",
    "        return payload[\"player\"], Ages.FEUDAL\n",
    "    elif payload[\"message\"].endswith(\"advanced to the Castle Age.\"):\n",
    "        return payload[\"player\"], Ages.CASTLE\n",
    "    elif payload[\"message\"].endswith(\"advanced to the Imperial Age.\"):\n",
    "        return payload[\"player\"], Ages.IMPERIAL\n",
    "    else:\n",
    "        return None, None\n",
    "\n",
    "for chat in chats:\n",
    "    print(get_age_up_from_chat(chat[1]))"
   ],
   "metadata": {
    "collapsed": false,
    "ExecuteTime": {
     "end_time": "2023-09-19T07:25:50.890302200Z",
     "start_time": "2023-09-19T07:25:50.754743100Z"
    }
   }
  },
  {
   "cell_type": "markdown",
   "source": [
    "### Get Time"
   ],
   "metadata": {
    "collapsed": false
   }
  },
  {
   "cell_type": "code",
   "execution_count": 350,
   "outputs": [],
   "source": [
    "from typing import Any\n",
    "from dataclasses import dataclass\n",
    "\n",
    "@dataclass\n",
    "class TimedEvent:\n",
    "    time: int\n",
    "    action: Operation\n",
    "    data:Any"
   ],
   "metadata": {
    "collapsed": false
   }
  },
  {
   "cell_type": "code",
   "execution_count": 351,
   "outputs": [],
   "source": [
    "timed_game_data = []\n",
    "t = 0\n",
    "for op_type, val in game_data:\n",
    "    if op_type == Operation.SYNC:\n",
    "        td = val[0]\n",
    "        t+= td\n",
    "    else:\n",
    "        timed_game_data.append(TimedEvent(t, op_type, val))"
   ],
   "metadata": {
    "collapsed": false,
    "ExecuteTime": {
     "end_time": "2023-09-19T07:25:53.251173Z",
     "start_time": "2023-09-19T07:25:53.228164700Z"
    }
   }
  },
  {
   "cell_type": "code",
   "execution_count": 352,
   "outputs": [
    {
     "data": {
      "text/plain": "[TimedEvent(time=0, action=<Operation.CHAT: 4>, data=b'{\"player\":1,\"channel\":0,\"message\":\"60\",\"tauntNumber\":60,\"messageAGP\":\"\"}'),\n TimedEvent(time=11, action=<Operation.ACTION: 1>, data=(<Action.GAME: 103>, {'player_id': 1, 'command_id': 16, 'sequence': 11})),\n TimedEvent(time=11, action=<Operation.ACTION: 1>, data=(<Action.GAME: 103>, {'player_id': 1, 'command_id': 19, 'sequence': 11})),\n TimedEvent(time=11, action=<Operation.ACTION: 1>, data=(<Action.DE_TRANSFORM: 41>, {'player_id': 1, 'object_ids': [1651], 'sequence': 11})),\n TimedEvent(time=1441, action=<Operation.ACTION: 1>, data=(<Action.DE_QUEUE: 129>, {'player_id': 1, 'object_ids': [1940], 'amount': 1, 'unit_id': 83, 'sequence': 1441})),\n TimedEvent(time=1691, action=<Operation.ACTION: 1>, data=(<Action.DE_QUEUE: 129>, {'player_id': 1, 'object_ids': [1940], 'amount': 1, 'unit_id': 83, 'sequence': 1691})),\n TimedEvent(time=1995, action=<Operation.ACTION: 1>, data=(<Action.DE_QUEUE: 129>, {'player_id': 1, 'object_ids': [1940], 'amount': 1, 'unit_id': 83, 'sequence': 1995})),\n TimedEvent(time=2202, action=<Operation.ACTION: 1>, data=(<Action.DE_QUEUE: 129>, {'player_id': 1, 'object_ids': [1940], 'amount': 1, 'unit_id': 83, 'sequence': 2202})),\n TimedEvent(time=4397, action=<Operation.ACTION: 1>, data=(<Action.BUILD: 102>, {'player_id': 1, 'building_id': 70, 'object_ids': [1948, 1947], 'x': 23.0, 'y': 39.0, 'sequence': 4397})),\n TimedEvent(time=7123, action=<Operation.ACTION: 1>, data=(<Action.BUILD: 102>, {'player_id': 1, 'building_id': 70, 'object_ids': [1946], 'x': 14.0, 'y': 48.0, 'sequence': 7123})),\n TimedEvent(time=12900, action=<Operation.ACTION: 1>, data=(<Action.DE_QUEUE: 129>, {'player_id': 1, 'object_ids': [1940], 'amount': 1, 'unit_id': 83, 'sequence': 12900})),\n TimedEvent(time=13222, action=<Operation.ACTION: 1>, data=(<Action.DE_QUEUE: 129>, {'player_id': 1, 'object_ids': [1940], 'amount': 1, 'unit_id': 83, 'sequence': 13222})),\n TimedEvent(time=13596, action=<Operation.ACTION: 1>, data=(<Action.DE_QUEUE: 129>, {'player_id': 1, 'object_ids': [1940], 'amount': 1, 'unit_id': 83, 'sequence': 13596})),\n TimedEvent(time=37128, action=<Operation.ACTION: 1>, data=(<Action.SPECIAL: 117>, {'player_id': 1, 'order_id': 4, 'slot_id': 0, 'target_id': -1, 'x': 0.0, 'y': 0.0, 'object_ids': [1940], 'sequence': 37128})),\n TimedEvent(time=37401, action=<Operation.ACTION: 1>, data=(<Action.SPECIAL: 117>, {'player_id': 1, 'order_id': 4, 'slot_id': 0, 'target_id': -1, 'x': 0.0, 'y': 0.0, 'object_ids': [1940], 'sequence': 37401})),\n TimedEvent(time=37691, action=<Operation.ACTION: 1>, data=(<Action.SPECIAL: 117>, {'player_id': 1, 'order_id': 4, 'slot_id': 0, 'target_id': -1, 'x': 0.0, 'y': 0.0, 'object_ids': [1940], 'sequence': 37691})),\n TimedEvent(time=37968, action=<Operation.ACTION: 1>, data=(<Action.SPECIAL: 117>, {'player_id': 1, 'order_id': 4, 'slot_id': 0, 'target_id': -1, 'x': 0.0, 'y': 0.0, 'object_ids': [1940], 'sequence': 37968})),\n TimedEvent(time=38249, action=<Operation.ACTION: 1>, data=(<Action.SPECIAL: 117>, {'player_id': 1, 'order_id': 4, 'slot_id': 0, 'target_id': -1, 'x': 0.0, 'y': 0.0, 'object_ids': [1940], 'sequence': 38249})),\n TimedEvent(time=38519, action=<Operation.ACTION: 1>, data=(<Action.SPECIAL: 117>, {'player_id': 1, 'order_id': 4, 'slot_id': 0, 'target_id': -1, 'x': 0.0, 'y': 0.0, 'object_ids': [1940], 'sequence': 38519})),\n TimedEvent(time=47681, action=<Operation.ACTION: 1>, data=(<Action.DE_QUEUE: 129>, {'player_id': 1, 'object_ids': [1940], 'amount': 1, 'unit_id': 83, 'sequence': 47681})),\n TimedEvent(time=47962, action=<Operation.ACTION: 1>, data=(<Action.DE_QUEUE: 129>, {'player_id': 1, 'object_ids': [1940], 'amount': 1, 'unit_id': 83, 'sequence': 47962})),\n TimedEvent(time=48244, action=<Operation.ACTION: 1>, data=(<Action.DE_QUEUE: 129>, {'player_id': 1, 'object_ids': [1940], 'amount': 1, 'unit_id': 83, 'sequence': 48244})),\n TimedEvent(time=48484, action=<Operation.ACTION: 1>, data=(<Action.DE_QUEUE: 129>, {'player_id': 1, 'object_ids': [1940], 'amount': 1, 'unit_id': 83, 'sequence': 48484})),\n TimedEvent(time=48854, action=<Operation.ACTION: 1>, data=(<Action.DE_QUEUE: 129>, {'player_id': 1, 'object_ids': [1940], 'amount': 1, 'unit_id': 83, 'sequence': 48854})),\n TimedEvent(time=56123, action=<Operation.ACTION: 1>, data=(<Action.BUILD: 102>, {'player_id': 1, 'building_id': 68, 'object_ids': [1948, 1947], 'x': 26.0, 'y': 40.0, 'sequence': 56123})),\n TimedEvent(time=60937, action=<Operation.CHAT: 4>, data=b'{\"player\":1,\"channel\":0,\"message\":\"60\",\"tauntNumber\":60,\"messageAGP\":\"@#11 Blazena_Bozena: 60\"}'),\n TimedEvent(time=75079, action=<Operation.ACTION: 1>, data=(<Action.BUILD: 102>, {'player_id': 1, 'building_id': 584, 'object_ids': [1962, 1946], 'x': 16.0, 'y': 53.0, 'sequence': 75079})),\n TimedEvent(time=81252, action=<Operation.ACTION: 1>, data=(<Action.SPECIAL: 117>, {'player_id': 1, 'order_id': 4, 'slot_id': 0, 'target_id': -1, 'x': 0.0, 'y': 0.0, 'object_ids': [1940], 'sequence': 81252})),\n TimedEvent(time=81510, action=<Operation.ACTION: 1>, data=(<Action.SPECIAL: 117>, {'player_id': 1, 'order_id': 4, 'slot_id': 0, 'target_id': -1, 'x': 0.0, 'y': 0.0, 'object_ids': [1940], 'sequence': 81510})),\n TimedEvent(time=81752, action=<Operation.ACTION: 1>, data=(<Action.SPECIAL: 117>, {'player_id': 1, 'order_id': 4, 'slot_id': 0, 'target_id': -1, 'x': 0.0, 'y': 0.0, 'object_ids': [1940], 'sequence': 81752})),\n TimedEvent(time=82015, action=<Operation.ACTION: 1>, data=(<Action.SPECIAL: 117>, {'player_id': 1, 'order_id': 4, 'slot_id': 0, 'target_id': -1, 'x': 0.0, 'y': 0.0, 'object_ids': [1940], 'sequence': 82015})),\n TimedEvent(time=85313, action=<Operation.ACTION: 1>, data=(<Action.DE_QUEUE: 129>, {'player_id': 1, 'object_ids': [1940], 'amount': 1, 'unit_id': 83, 'sequence': 85313})),\n TimedEvent(time=85590, action=<Operation.ACTION: 1>, data=(<Action.DE_QUEUE: 129>, {'player_id': 1, 'object_ids': [1940], 'amount': 1, 'unit_id': 83, 'sequence': 85590})),\n TimedEvent(time=85856, action=<Operation.ACTION: 1>, data=(<Action.DE_QUEUE: 129>, {'player_id': 1, 'object_ids': [1940], 'amount': 1, 'unit_id': 83, 'sequence': 85856})),\n TimedEvent(time=86199, action=<Operation.ACTION: 1>, data=(<Action.DE_QUEUE: 129>, {'player_id': 1, 'object_ids': [1940], 'amount': 1, 'unit_id': 83, 'sequence': 86199})),\n TimedEvent(time=86432, action=<Operation.ACTION: 1>, data=(<Action.DE_QUEUE: 129>, {'player_id': 1, 'object_ids': [1940], 'amount': 1, 'unit_id': 83, 'sequence': 86432})),\n TimedEvent(time=86756, action=<Operation.ACTION: 1>, data=(<Action.DE_QUEUE: 129>, {'player_id': 1, 'object_ids': [1940], 'amount': 1, 'unit_id': 83, 'sequence': 86756})),\n TimedEvent(time=87140, action=<Operation.ACTION: 1>, data=(<Action.DE_QUEUE: 129>, {'player_id': 1, 'object_ids': [1940], 'amount': 1, 'unit_id': 83, 'sequence': 87140})),\n TimedEvent(time=113755, action=<Operation.ACTION: 1>, data=(<Action.SPECIAL: 117>, {'player_id': 1, 'order_id': 4, 'slot_id': 0, 'target_id': -1, 'x': 0.0, 'y': 0.0, 'object_ids': [1940], 'sequence': 113755})),\n TimedEvent(time=114085, action=<Operation.ACTION: 1>, data=(<Action.SPECIAL: 117>, {'player_id': 1, 'order_id': 4, 'slot_id': 0, 'target_id': -1, 'x': 0.0, 'y': 0.0, 'object_ids': [1940], 'sequence': 114085})),\n TimedEvent(time=114314, action=<Operation.ACTION: 1>, data=(<Action.SPECIAL: 117>, {'player_id': 1, 'order_id': 4, 'slot_id': 0, 'target_id': -1, 'x': 0.0, 'y': 0.0, 'object_ids': [1940], 'sequence': 114314})),\n TimedEvent(time=114583, action=<Operation.ACTION: 1>, data=(<Action.SPECIAL: 117>, {'player_id': 1, 'order_id': 4, 'slot_id': 0, 'target_id': -1, 'x': 0.0, 'y': 0.0, 'object_ids': [1940], 'sequence': 114583})),\n TimedEvent(time=114811, action=<Operation.ACTION: 1>, data=(<Action.SPECIAL: 117>, {'player_id': 1, 'order_id': 4, 'slot_id': 0, 'target_id': -1, 'x': 0.0, 'y': 0.0, 'object_ids': [1940], 'sequence': 114811})),\n TimedEvent(time=115127, action=<Operation.ACTION: 1>, data=(<Action.SPECIAL: 117>, {'player_id': 1, 'order_id': 4, 'slot_id': 0, 'target_id': -1, 'x': 0.0, 'y': 0.0, 'object_ids': [1940], 'sequence': 115127})),\n TimedEvent(time=119321, action=<Operation.ACTION: 1>, data=(<Action.DE_QUEUE: 129>, {'player_id': 1, 'object_ids': [1940], 'amount': 1, 'unit_id': 83, 'sequence': 119321})),\n TimedEvent(time=119617, action=<Operation.ACTION: 1>, data=(<Action.DE_QUEUE: 129>, {'player_id': 1, 'object_ids': [1940], 'amount': 1, 'unit_id': 83, 'sequence': 119617})),\n TimedEvent(time=119892, action=<Operation.ACTION: 1>, data=(<Action.DE_QUEUE: 129>, {'player_id': 1, 'object_ids': [1940], 'amount': 1, 'unit_id': 83, 'sequence': 119892})),\n TimedEvent(time=120234, action=<Operation.ACTION: 1>, data=(<Action.DE_QUEUE: 129>, {'player_id': 1, 'object_ids': [1940], 'amount': 1, 'unit_id': 83, 'sequence': 120234})),\n TimedEvent(time=120645, action=<Operation.ACTION: 1>, data=(<Action.DE_QUEUE: 129>, {'player_id': 1, 'object_ids': [1940], 'amount': 1, 'unit_id': 83, 'sequence': 120645})),\n TimedEvent(time=121516, action=<Operation.CHAT: 4>, data=b'{\"player\":1,\"channel\":0,\"message\":\"121\",\"tauntNumber\":-1,\"messageAGP\":\"@#11 Blazena_Bozena: 121\"}'),\n TimedEvent(time=134937, action=<Operation.ACTION: 1>, data=(<Action.SPECIAL: 117>, {'player_id': 1, 'order_id': 4, 'slot_id': 0, 'target_id': -1, 'x': 0.0, 'y': 0.0, 'object_ids': [1940], 'sequence': 134937})),\n TimedEvent(time=135199, action=<Operation.ACTION: 1>, data=(<Action.SPECIAL: 117>, {'player_id': 1, 'order_id': 4, 'slot_id': 0, 'target_id': -1, 'x': 0.0, 'y': 0.0, 'object_ids': [1940], 'sequence': 135199})),\n TimedEvent(time=135478, action=<Operation.ACTION: 1>, data=(<Action.SPECIAL: 117>, {'player_id': 1, 'order_id': 4, 'slot_id': 0, 'target_id': -1, 'x': 0.0, 'y': 0.0, 'object_ids': [1940], 'sequence': 135478})),\n TimedEvent(time=135795, action=<Operation.ACTION: 1>, data=(<Action.SPECIAL: 117>, {'player_id': 1, 'order_id': 4, 'slot_id': 0, 'target_id': -1, 'x': 0.0, 'y': 0.0, 'object_ids': [1940], 'sequence': 135795})),\n TimedEvent(time=136174, action=<Operation.ACTION: 1>, data=(<Action.SPECIAL: 117>, {'player_id': 1, 'order_id': 4, 'slot_id': 0, 'target_id': -1, 'x': 0.0, 'y': 0.0, 'object_ids': [1940], 'sequence': 136174})),\n TimedEvent(time=138741, action=<Operation.ACTION: 1>, data=(<Action.RESEARCH: 101>, {'player_id': 1, 'technology_id': 22, 'object_ids': [1940], 'sequence': 138741})),\n TimedEvent(time=142565, action=<Operation.ACTION: 1>, data=(<Action.RESEARCH: 101>, {'player_id': 1, 'technology_id': 101, 'object_ids': [1940], 'sequence': 142565})),\n TimedEvent(time=144053, action=<Operation.ACTION: 1>, data=(<Action.DE_QUEUE: 129>, {'player_id': 1, 'object_ids': [1940], 'amount': 1, 'unit_id': 83, 'sequence': 144053})),\n TimedEvent(time=144338, action=<Operation.ACTION: 1>, data=(<Action.DE_QUEUE: 129>, {'player_id': 1, 'object_ids': [1940], 'amount': 1, 'unit_id': 83, 'sequence': 144338})),\n TimedEvent(time=144597, action=<Operation.ACTION: 1>, data=(<Action.DE_QUEUE: 129>, {'player_id': 1, 'object_ids': [1940], 'amount': 1, 'unit_id': 83, 'sequence': 144597})),\n TimedEvent(time=144877, action=<Operation.ACTION: 1>, data=(<Action.DE_QUEUE: 129>, {'player_id': 1, 'object_ids': [1940], 'amount': 1, 'unit_id': 83, 'sequence': 144877})),\n TimedEvent(time=145163, action=<Operation.ACTION: 1>, data=(<Action.DE_QUEUE: 129>, {'player_id': 1, 'object_ids': [1940], 'amount': 1, 'unit_id': 83, 'sequence': 145163})),\n TimedEvent(time=145440, action=<Operation.ACTION: 1>, data=(<Action.DE_QUEUE: 129>, {'player_id': 1, 'object_ids': [1940], 'amount': 1, 'unit_id': 83, 'sequence': 145440})),\n TimedEvent(time=176018, action=<Operation.ACTION: 1>, data=(<Action.SPECIAL: 117>, {'player_id': 1, 'order_id': 4, 'slot_id': 1, 'target_id': -1, 'x': 0.0, 'y': 0.0, 'object_ids': [1940], 'sequence': 176018})),\n TimedEvent(time=176271, action=<Operation.ACTION: 1>, data=(<Action.SPECIAL: 117>, {'player_id': 1, 'order_id': 4, 'slot_id': 1, 'target_id': -1, 'x': 0.0, 'y': 0.0, 'object_ids': [1940], 'sequence': 176271})),\n TimedEvent(time=176542, action=<Operation.ACTION: 1>, data=(<Action.SPECIAL: 117>, {'player_id': 1, 'order_id': 4, 'slot_id': 1, 'target_id': -1, 'x': 0.0, 'y': 0.0, 'object_ids': [1940], 'sequence': 176542})),\n TimedEvent(time=176797, action=<Operation.ACTION: 1>, data=(<Action.SPECIAL: 117>, {'player_id': 1, 'order_id': 4, 'slot_id': 1, 'target_id': -1, 'x': 0.0, 'y': 0.0, 'object_ids': [1940], 'sequence': 176797})),\n TimedEvent(time=177024, action=<Operation.ACTION: 1>, data=(<Action.SPECIAL: 117>, {'player_id': 1, 'order_id': 4, 'slot_id': 1, 'target_id': -1, 'x': 0.0, 'y': 0.0, 'object_ids': [1940], 'sequence': 177024})),\n TimedEvent(time=177335, action=<Operation.ACTION: 1>, data=(<Action.SPECIAL: 117>, {'player_id': 1, 'order_id': 4, 'slot_id': 1, 'target_id': -1, 'x': 0.0, 'y': 0.0, 'object_ids': [1940], 'sequence': 177335})),\n TimedEvent(time=179276, action=<Operation.ACTION: 1>, data=(<Action.DE_QUEUE: 129>, {'player_id': 1, 'object_ids': [1940], 'amount': 1, 'unit_id': 83, 'sequence': 179276})),\n TimedEvent(time=179562, action=<Operation.ACTION: 1>, data=(<Action.DE_QUEUE: 129>, {'player_id': 1, 'object_ids': [1940], 'amount': 1, 'unit_id': 83, 'sequence': 179562})),\n TimedEvent(time=179796, action=<Operation.ACTION: 1>, data=(<Action.DE_QUEUE: 129>, {'player_id': 1, 'object_ids': [1940], 'amount': 1, 'unit_id': 83, 'sequence': 179796})),\n TimedEvent(time=180063, action=<Operation.ACTION: 1>, data=(<Action.DE_QUEUE: 129>, {'player_id': 1, 'object_ids': [1940], 'amount': 1, 'unit_id': 83, 'sequence': 180063})),\n TimedEvent(time=180387, action=<Operation.ACTION: 1>, data=(<Action.DE_QUEUE: 129>, {'player_id': 1, 'object_ids': [1940], 'amount': 1, 'unit_id': 83, 'sequence': 180387})),\n TimedEvent(time=180630, action=<Operation.ACTION: 1>, data=(<Action.DE_QUEUE: 129>, {'player_id': 1, 'object_ids': [1940], 'amount': 1, 'unit_id': 83, 'sequence': 180630})),\n TimedEvent(time=188934, action=<Operation.CHAT: 4>, data=b'{\"player\":1,\"channel\":0,\"message\":\"3:08\",\"tauntNumber\":3,\"messageAGP\":\"@#11 Blazena_Bozena: 3:08\"}'),\n TimedEvent(time=240532, action=<Operation.CHAT: 4>, data=b'{\"player\":1,\"channel\":0,\"message\":\"4:00\",\"tauntNumber\":4,\"messageAGP\":\"@#11 Blazena_Bozena: 4:00\"}'),\n TimedEvent(time=293734, action=<Operation.CHAT: 4>, data=b'{\"player\":1,\"channel\":0,\"message\":\"Blazena_Bozena advanced to the Feudal Age.\",\"tauntNumber\":-1,\"messageAGP\":\"@#1Blazena_Bozena advanced to the Feudal Age.\"}'),\n TimedEvent(time=304106, action=<Operation.ACTION: 1>, data=(<Action.SPECIAL: 117>, {'player_id': 1, 'order_id': 4, 'slot_id': 1, 'target_id': -1, 'x': 0.0, 'y': 0.0, 'object_ids': [1940], 'sequence': 304106})),\n TimedEvent(time=304378, action=<Operation.ACTION: 1>, data=(<Action.SPECIAL: 117>, {'player_id': 1, 'order_id': 4, 'slot_id': 1, 'target_id': -1, 'x': 0.0, 'y': 0.0, 'object_ids': [1940], 'sequence': 304378})),\n TimedEvent(time=304664, action=<Operation.ACTION: 1>, data=(<Action.SPECIAL: 117>, {'player_id': 1, 'order_id': 4, 'slot_id': 1, 'target_id': -1, 'x': 0.0, 'y': 0.0, 'object_ids': [1940], 'sequence': 304664})),\n TimedEvent(time=304921, action=<Operation.ACTION: 1>, data=(<Action.SPECIAL: 117>, {'player_id': 1, 'order_id': 4, 'slot_id': 1, 'target_id': -1, 'x': 0.0, 'y': 0.0, 'object_ids': [1940], 'sequence': 304921})),\n TimedEvent(time=305990, action=<Operation.ACTION: 1>, data=(<Action.SPECIAL: 117>, {'player_id': 1, 'order_id': 4, 'slot_id': 1, 'target_id': -1, 'x': 0.0, 'y': 0.0, 'object_ids': [1940], 'sequence': 305990})),\n TimedEvent(time=307164, action=<Operation.ACTION: 1>, data=(<Action.RESEARCH: 101>, {'player_id': 1, 'technology_id': 213, 'object_ids': [1940], 'sequence': 307164})),\n TimedEvent(time=310058, action=<Operation.ACTION: 1>, data=(<Action.DE_QUEUE: 129>, {'player_id': 1, 'object_ids': [1940], 'amount': 1, 'unit_id': 83, 'sequence': 310058})),\n TimedEvent(time=310281, action=<Operation.ACTION: 1>, data=(<Action.DE_QUEUE: 129>, {'player_id': 1, 'object_ids': [1940], 'amount': 1, 'unit_id': 83, 'sequence': 310281})),\n TimedEvent(time=311329, action=<Operation.ACTION: 1>, data=(<Action.SPECIAL: 117>, {'player_id': 1, 'order_id': 4, 'slot_id': 1, 'target_id': -1, 'x': 0.0, 'y': 0.0, 'object_ids': [1940], 'sequence': 311329})),\n TimedEvent(time=311603, action=<Operation.ACTION: 1>, data=(<Action.SPECIAL: 117>, {'player_id': 1, 'order_id': 4, 'slot_id': 1, 'target_id': -1, 'x': 0.0, 'y': 0.0, 'object_ids': [1940], 'sequence': 311603})),\n TimedEvent(time=311895, action=<Operation.ACTION: 1>, data=(<Action.SPECIAL: 117>, {'player_id': 1, 'order_id': 4, 'slot_id': 1, 'target_id': -1, 'x': 0.0, 'y': 0.0, 'object_ids': [1940], 'sequence': 311895})),\n TimedEvent(time=313958, action=<Operation.ACTION: 1>, data=(<Action.RESEARCH: 101>, {'player_id': 1, 'technology_id': 213, 'object_ids': [1940], 'sequence': 313958})),\n TimedEvent(time=314895, action=<Operation.ACTION: 1>, data=(<Action.DE_QUEUE: 129>, {'player_id': 1, 'object_ids': [1940], 'amount': 1, 'unit_id': 83, 'sequence': 314895})),\n TimedEvent(time=315080, action=<Operation.ACTION: 1>, data=(<Action.DE_QUEUE: 129>, {'player_id': 1, 'object_ids': [1940], 'amount': 1, 'unit_id': 83, 'sequence': 315080})),\n TimedEvent(time=315578, action=<Operation.ACTION: 1>, data=(<Action.DE_QUEUE: 129>, {'player_id': 1, 'object_ids': [1940], 'amount': 1, 'unit_id': 83, 'sequence': 315578})),\n TimedEvent(time=317158, action=<Operation.ACTION: 1>, data=(<Action.SPECIAL: 117>, {'player_id': 1, 'order_id': 4, 'slot_id': 1, 'target_id': -1, 'x': 0.0, 'y': 0.0, 'object_ids': [1940], 'sequence': 317158})),\n TimedEvent(time=317361, action=<Operation.ACTION: 1>, data=(<Action.SPECIAL: 117>, {'player_id': 1, 'order_id': 4, 'slot_id': 1, 'target_id': -1, 'x': 0.0, 'y': 0.0, 'object_ids': [1940], 'sequence': 317361})),\n TimedEvent(time=317724, action=<Operation.ACTION: 1>, data=(<Action.SPECIAL: 117>, {'player_id': 1, 'order_id': 4, 'slot_id': 1, 'target_id': -1, 'x': 0.0, 'y': 0.0, 'object_ids': [1940], 'sequence': 317724})),\n TimedEvent(time=320859, action=<Operation.ACTION: 1>, data=(<Action.RESEARCH: 101>, {'player_id': 1, 'technology_id': 213, 'object_ids': [1940], 'sequence': 320859})),\n TimedEvent(time=322153, action=<Operation.ACTION: 1>, data=(<Action.SPECIAL: 117>, {'player_id': 1, 'order_id': 4, 'slot_id': 1, 'target_id': -1, 'x': 0.0, 'y': 0.0, 'object_ids': [1940], 'sequence': 322153})),\n TimedEvent(time=323373, action=<Operation.ACTION: 1>, data=(<Action.DE_QUEUE: 129>, {'player_id': 1, 'object_ids': [1940], 'amount': 1, 'unit_id': 83, 'sequence': 323373})),\n TimedEvent(time=323674, action=<Operation.ACTION: 1>, data=(<Action.DE_QUEUE: 129>, {'player_id': 1, 'object_ids': [1940], 'amount': 1, 'unit_id': 83, 'sequence': 323674})),\n TimedEvent(time=325676, action=<Operation.ACTION: 1>, data=(<Action.SPECIAL: 117>, {'player_id': 1, 'order_id': 4, 'slot_id': 1, 'target_id': -1, 'x': 0.0, 'y': 0.0, 'object_ids': [1940], 'sequence': 325676})),\n TimedEvent(time=325925, action=<Operation.ACTION: 1>, data=(<Action.SPECIAL: 117>, {'player_id': 1, 'order_id': 4, 'slot_id': 1, 'target_id': -1, 'x': 0.0, 'y': 0.0, 'object_ids': [1940], 'sequence': 325925})),\n TimedEvent(time=327316, action=<Operation.ACTION: 1>, data=(<Action.RESEARCH: 101>, {'player_id': 1, 'technology_id': 213, 'object_ids': [1940], 'sequence': 327316})),\n TimedEvent(time=338298, action=<Operation.ACTION: 1>, data=(<Action.BUILD: 102>, {'player_id': 1, 'building_id': 84, 'object_ids': [1967, 1966, 1964, 1962, 1946], 'x': 23.0, 'y': 55.0, 'sequence': 338298})),\n TimedEvent(time=344332, action=<Operation.ACTION: 1>, data=(<Action.BUILD: 102>, {'player_id': 1, 'building_id': 103, 'object_ids': [1947, 1948], 'x': 30.5, 'y': 42.5, 'sequence': 344332})),\n TimedEvent(time=346527, action=<Operation.ACTION: 1>, data=(<Action.ORDER: 0>, {'player_id': 1, 'object_ids': [1969], 'target_id': 1968, 'x': 23.0, 'y': 55.0, 'sequence': 346527})),\n TimedEvent(time=350138, action=<Operation.ACTION: 1>, data=(<Action.SPECIAL: 117>, {'player_id': 1, 'order_id': 4, 'slot_id': 0, 'target_id': -1, 'x': 0.0, 'y': 0.0, 'object_ids': [1940], 'sequence': 350138})),\n TimedEvent(time=351168, action=<Operation.ACTION: 1>, data=(<Action.RESEARCH: 101>, {'player_id': 1, 'technology_id': 8, 'object_ids': [1940], 'sequence': 351168})),\n TimedEvent(time=356317, action=<Operation.ACTION: 1>, data=(<Action.DE_QUEUE: 129>, {'player_id': 1, 'object_ids': [1940], 'amount': 1, 'unit_id': 83, 'sequence': 356317})),\n TimedEvent(time=358736, action=<Operation.ACTION: 1>, data=(<Action.RESEARCH: 101>, {'player_id': 1, 'technology_id': 213, 'object_ids': [1940], 'sequence': 358736})),\n TimedEvent(time=360674, action=<Operation.ACTION: 1>, data=(<Action.SPECIAL: 117>, {'player_id': 1, 'order_id': 4, 'slot_id': 1, 'target_id': -1, 'x': 0.0, 'y': 0.0, 'object_ids': [1940], 'sequence': 360674})),\n TimedEvent(time=362090, action=<Operation.ACTION: 1>, data=(<Action.SPECIAL: 117>, {'player_id': 1, 'order_id': 4, 'slot_id': 1, 'target_id': -1, 'x': 0.0, 'y': 0.0, 'object_ids': [1940], 'sequence': 362090})),\n TimedEvent(time=365362, action=<Operation.ACTION: 1>, data=(<Action.DE_QUEUE: 129>, {'player_id': 1, 'object_ids': [1940], 'amount': 1, 'unit_id': 83, 'sequence': 365362})),\n TimedEvent(time=365601, action=<Operation.ACTION: 1>, data=(<Action.DE_QUEUE: 129>, {'player_id': 1, 'object_ids': [1940], 'amount': 1, 'unit_id': 83, 'sequence': 365601})),\n TimedEvent(time=365860, action=<Operation.ACTION: 1>, data=(<Action.DE_QUEUE: 129>, {'player_id': 1, 'object_ids': [1940], 'amount': 1, 'unit_id': 83, 'sequence': 365860})),\n TimedEvent(time=366128, action=<Operation.ACTION: 1>, data=(<Action.DE_QUEUE: 129>, {'player_id': 1, 'object_ids': [1940], 'amount': 1, 'unit_id': 83, 'sequence': 366128})),\n TimedEvent(time=382823, action=<Operation.ACTION: 1>, data=(<Action.RESEARCH: 101>, {'player_id': 1, 'technology_id': 102, 'object_ids': [1940], 'sequence': 382823})),\n TimedEvent(time=384482, action=<Operation.ACTION: 1>, data=(<Action.SPECIAL: 117>, {'player_id': 1, 'order_id': 4, 'slot_id': 1, 'target_id': -1, 'x': 0.0, 'y': 0.0, 'object_ids': [1940], 'sequence': 384482})),\n TimedEvent(time=384762, action=<Operation.ACTION: 1>, data=(<Action.SPECIAL: 117>, {'player_id': 1, 'order_id': 4, 'slot_id': 1, 'target_id': -1, 'x': 0.0, 'y': 0.0, 'object_ids': [1940], 'sequence': 384762})),\n TimedEvent(time=385075, action=<Operation.ACTION: 1>, data=(<Action.SPECIAL: 117>, {'player_id': 1, 'order_id': 4, 'slot_id': 1, 'target_id': -1, 'x': 0.0, 'y': 0.0, 'object_ids': [1940], 'sequence': 385075})),\n TimedEvent(time=385311, action=<Operation.ACTION: 1>, data=(<Action.SPECIAL: 117>, {'player_id': 1, 'order_id': 4, 'slot_id': 1, 'target_id': -1, 'x': 0.0, 'y': 0.0, 'object_ids': [1940], 'sequence': 385311})),\n TimedEvent(time=386655, action=<Operation.ACTION: 1>, data=(<Action.SPECIAL: 117>, {'player_id': 1, 'order_id': 4, 'slot_id': 0, 'target_id': -1, 'x': 0.0, 'y': 0.0, 'object_ids': [1940], 'sequence': 386655})),\n TimedEvent(time=388342, action=<Operation.ACTION: 1>, data=(<Action.RESEARCH: 101>, {'player_id': 1, 'technology_id': 102, 'object_ids': [1940], 'sequence': 388342})),\n TimedEvent(time=391588, action=<Operation.ACTION: 1>, data=(<Action.SPECIAL: 117>, {'player_id': 1, 'order_id': 4, 'slot_id': 0, 'target_id': -1, 'x': 0.0, 'y': 0.0, 'object_ids': [1940], 'sequence': 391588})),\n TimedEvent(time=393237, action=<Operation.ACTION: 1>, data=(<Action.RESEARCH: 101>, {'player_id': 1, 'technology_id': 102, 'object_ids': [1940], 'sequence': 393237})),\n TimedEvent(time=396792, action=<Operation.ACTION: 1>, data=(<Action.DE_QUEUE: 129>, {'player_id': 1, 'object_ids': [1940], 'amount': 1, 'unit_id': 83, 'sequence': 396792})),\n TimedEvent(time=398526, action=<Operation.ACTION: 1>, data=(<Action.SPECIAL: 117>, {'player_id': 1, 'order_id': 4, 'slot_id': 0, 'target_id': -1, 'x': 0.0, 'y': 0.0, 'object_ids': [1940], 'sequence': 398526})),\n TimedEvent(time=400137, action=<Operation.ACTION: 1>, data=(<Action.RESEARCH: 101>, {'player_id': 1, 'technology_id': 102, 'object_ids': [1940], 'sequence': 400137})),\n TimedEvent(time=401752, action=<Operation.ACTION: 1>, data=(<Action.SPECIAL: 117>, {'player_id': 1, 'order_id': 4, 'slot_id': 0, 'target_id': -1, 'x': 0.0, 'y': 0.0, 'object_ids': [1940], 'sequence': 401752})),\n TimedEvent(time=403919, action=<Operation.ACTION: 1>, data=(<Action.DE_QUEUE: 129>, {'player_id': 1, 'object_ids': [1940], 'amount': 1, 'unit_id': 83, 'sequence': 403919})),\n TimedEvent(time=405697, action=<Operation.ACTION: 1>, data=(<Action.SPECIAL: 117>, {'player_id': 1, 'order_id': 4, 'slot_id': 0, 'target_id': -1, 'x': 0.0, 'y': 0.0, 'object_ids': [1940], 'sequence': 405697})),\n TimedEvent(time=407190, action=<Operation.ACTION: 1>, data=(<Action.SPECIAL: 117>, {'player_id': 1, 'order_id': 4, 'slot_id': 0, 'target_id': -1, 'x': 0.0, 'y': 0.0, 'object_ids': [1940], 'sequence': 407190})),\n TimedEvent(time=408175, action=<Operation.ACTION: 1>, data=(<Action.RESEARCH: 101>, {'player_id': 1, 'technology_id': 102, 'object_ids': [1940], 'sequence': 408175})),\n TimedEvent(time=467317, action=<Operation.ACTION: 1>, data=(<Action.DE_QUEUE: 129>, {'player_id': 1, 'object_ids': [1940], 'amount': 1, 'unit_id': 83, 'sequence': 467317})),\n TimedEvent(time=467533, action=<Operation.ACTION: 1>, data=(<Action.DE_QUEUE: 129>, {'player_id': 1, 'object_ids': [1940], 'amount': 1, 'unit_id': 83, 'sequence': 467533})),\n TimedEvent(time=501322, action=<Operation.CHAT: 4>, data=b'{\"player\":1,\"channel\":0,\"message\":\"8:21\",\"tauntNumber\":8,\"messageAGP\":\"@#11 Blazena_Bozena: 8:21\"}'),\n TimedEvent(time=568149, action=<Operation.CHAT: 4>, data=b'{\"player\":1,\"channel\":0,\"message\":\"Blazena_Bozena advanced to the Castle Age.\",\"tauntNumber\":-1,\"messageAGP\":\"@#1Blazena_Bozena advanced to the Castle Age.\"}'),\n TimedEvent(time=569030, action=<Operation.CHAT: 4>, data=b'{\"player\":1,\"channel\":0,\"message\":\"9:28\",\"tauntNumber\":9,\"messageAGP\":\"@#11 Blazena_Bozena: 9:28\"}'),\n TimedEvent(time=579214, action=<Operation.ACTION: 1>, data=(<Action.RESEARCH: 101>, {'player_id': 1, 'technology_id': 213, 'object_ids': [1940], 'sequence': 579214})),\n TimedEvent(time=580713, action=<Operation.ACTION: 1>, data=(<Action.RESEARCH: 101>, {'player_id': 1, 'technology_id': 280, 'object_ids': [1940], 'sequence': 580713})),\n TimedEvent(time=600566, action=<Operation.CHAT: 4>, data=b'{\"player\":1,\"channel\":0,\"message\":\"10:00\",\"tauntNumber\":10,\"messageAGP\":\"@#11 Blazena_Bozena: 10:00\"}'),\n TimedEvent(time=604259, action=<Operation.ACTION: 1>, data=(<Action.RESIGN: 11>, {'player_id': 1, 'sequence': 604259}))]"
     },
     "execution_count": 352,
     "metadata": {},
     "output_type": "execute_result"
    }
   ],
   "source": [
    "timed_game_data"
   ],
   "metadata": {
    "collapsed": false,
    "ExecuteTime": {
     "end_time": "2023-09-19T07:25:53.484665300Z",
     "start_time": "2023-09-19T07:25:53.454917100Z"
    }
   }
  },
  {
   "cell_type": "markdown",
   "source": [
    "## Combine it all"
   ],
   "metadata": {
    "collapsed": false
   }
  },
  {
   "cell_type": "code",
   "execution_count": 408,
   "outputs": [
    {
     "name": "stdout",
     "output_type": "stream",
     "text": [
      "0 ms, chat b'{\"player\":1,\"channel\":0,\"message\":\"60\",\"tauntNumber\":60,\"messageAGP\":\"\"}' 0:00:00\n",
      "60937 ms, chat b'{\"player\":1,\"channel\":0,\"message\":\"60\",\"tauntNumber\":60,\"messageAGP\":\"@#11 Blazena_Bozena: 60\"}' 0:01:00.937000\n",
      "121516 ms, chat b'{\"player\":1,\"channel\":0,\"message\":\"121\",\"tauntNumber\":-1,\"messageAGP\":\"@#11 Blazena_Bozena: 121\"}' 0:02:01.516000\n",
      "188934 ms, chat b'{\"player\":1,\"channel\":0,\"message\":\"3:08\",\"tauntNumber\":3,\"messageAGP\":\"@#11 Blazena_Bozena: 3:08\"}' 0:03:08.934000\n",
      "240532 ms, chat b'{\"player\":1,\"channel\":0,\"message\":\"4:00\",\"tauntNumber\":4,\"messageAGP\":\"@#11 Blazena_Bozena: 4:00\"}' 0:04:00.532000\n",
      "293734 ms, player 1 Ages.FEUDAL 0:04:53.734000\n",
      "501322 ms, chat b'{\"player\":1,\"channel\":0,\"message\":\"8:21\",\"tauntNumber\":8,\"messageAGP\":\"@#11 Blazena_Bozena: 8:21\"}' 0:08:21.322000\n",
      "568149 ms, player 1 Ages.CASTLE 0:09:28.149000\n",
      "569030 ms, chat b'{\"player\":1,\"channel\":0,\"message\":\"9:28\",\"tauntNumber\":9,\"messageAGP\":\"@#11 Blazena_Bozena: 9:28\"}' 0:09:29.030000\n",
      "600566 ms, chat b'{\"player\":1,\"channel\":0,\"message\":\"10:00\",\"tauntNumber\":10,\"messageAGP\":\"@#11 Blazena_Bozena: 10:00\"}' 0:10:00.566000\n"
     ]
    }
   ],
   "source": [
    "import logging\n",
    "from datetime import timedelta\n",
    "\n",
    "class PlayerAgeInfo:\n",
    "    player_id: int\n",
    "    current_age: Ages\n",
    "    queue: dict[Ages, list[int]]\n",
    "    age_time: dict[Ages, int]\n",
    "    tc_ids = set[int]\n",
    "    \n",
    "    def __init__(self, player_id):\n",
    "        self.player_id = player_id\n",
    "        self.current_age = Ages.DARK\n",
    "        self.queue = {Ages.DARK: [], Ages.FEUDAL: [], Ages.CASTLE: [], Ages.IMPERIAL: []}\n",
    "        self.age_time = {Ages.DARK: 0, Ages.FEUDAL: None, Ages.CASTLE: None, Ages.IMPERIAL: None}\n",
    "        self.tc_ids = set()\n",
    "        \n",
    "@dataclass\n",
    "class TimedAction:\n",
    "    time: int\n",
    "    action: Operation\n",
    "    payload: Any\n",
    "    \n",
    "    def get_payload_string(self):\n",
    "        if self.action == fast.Action.DE_QUEUE:\n",
    "            return f\"Queue {self.payload['unit_id']}\"\n",
    "        if self.action == fast.Action.RESEARCH:\n",
    "            return f\"Research {self.payload['technology_id']}\"\n",
    "        if self.action == fast.Action.SPECIAL:\n",
    "            return f\"Cancel with {self.payload['order_id']} in slot {self.payload['slot_id']}\"\n",
    "    \n",
    "    def __str__(self):\n",
    "        return f\"{timedelta(milliseconds=self.time)} {self.get_payload_string()}\"\n",
    "    def __repr__(self):\n",
    "        return self.__str__()\n",
    "\n",
    "t = 0\n",
    "player_tc_queues=[PlayerAgeInfo(i) for i in range(1,9)] # max 8 players, indexed by player_id-1\n",
    "for op_type, event in game_data:\n",
    "    if op_type == Operation.SYNC:\n",
    "        td = event[0]\n",
    "        t += td\n",
    "    elif op_type == Operation.ACTION:\n",
    "        action, payload = event\n",
    "        player_info = player_tc_queues[payload[\"player_id\"] - 1]\n",
    "        if action == fast.Action.DE_QUEUE and payload[\"unit_id\"] == EntityIDs.VILLAGER.value:\n",
    "            player_info.queue[player_info.current_age].append(TimedAction(t, action, payload))\n",
    "            player_info.tc_ids = player_info.tc_ids.union(payload[\"object_ids\"])\n",
    "        if action == fast.Action.RESEARCH and payload[\"technology_id\"] in map(lambda e: e.value, TRACKED_TECHNOLOGIES):\n",
    "            player_info.queue[player_info.current_age].append(TimedAction(t, action, payload))\n",
    "        # Potentially a cancel action\n",
    "        elif action == fast.Action.SPECIAL:\n",
    "            if payload[\"order_id\"] in [4, 260] and payload[\"target_id\"] == -1 and player_info.tc_ids.intersection(payload[\"object_ids\"]):\n",
    "\n",
    "                player_info.queue[player_info.current_age].append(TimedAction(t, action, payload))\n",
    "        \n",
    "    elif op_type == Operation.CHAT:\n",
    "        player_id, age = get_age_up_from_chat(event)\n",
    "        if player_id is not None:\n",
    "            player_tc_queues[player_id-1].current_age = age\n",
    "            player_tc_queues[player_id-1].age_time[age] = t\n",
    "            print(t, \"ms, player\", player_id, age, timedelta(milliseconds=t))\n",
    "        else:\n",
    "            print(t, \"ms, chat\", event, timedelta(milliseconds=t))"
   ],
   "metadata": {
    "collapsed": false,
    "ExecuteTime": {
     "end_time": "2023-09-19T08:30:32.848480500Z",
     "start_time": "2023-09-19T08:30:32.806677300Z"
    }
   }
  },
  {
   "cell_type": "code",
   "execution_count": 413,
   "outputs": [
    {
     "name": "stdout",
     "output_type": "stream",
     "text": [
      "Feudal time: 0:04:53.734000\n",
      "0:00:01.441000 Queue 83\n",
      "0:00:01.691000 Queue 83\n",
      "0:00:01.995000 Queue 83\n",
      "0:00:02.202000 Queue 83\n",
      "0:00:12.900000 Queue 83\n",
      "0:00:13.222000 Queue 83\n",
      "0:00:13.596000 Queue 83\n",
      "0:00:37.128000 Cancel with 4 in slot 0\n",
      "0:00:37.401000 Cancel with 4 in slot 0\n",
      "0:00:37.691000 Cancel with 4 in slot 0\n",
      "0:00:37.968000 Cancel with 4 in slot 0\n",
      "0:00:38.249000 Cancel with 4 in slot 0\n",
      "0:00:38.519000 Cancel with 4 in slot 0\n",
      "0:00:47.681000 Queue 83\n",
      "0:00:47.962000 Queue 83\n",
      "0:00:48.244000 Queue 83\n",
      "0:00:48.484000 Queue 83\n",
      "0:00:48.854000 Queue 83\n",
      "0:01:21.252000 Cancel with 4 in slot 0\n",
      "0:01:21.510000 Cancel with 4 in slot 0\n",
      "0:01:21.752000 Cancel with 4 in slot 0\n",
      "0:01:22.015000 Cancel with 4 in slot 0\n",
      "0:01:25.313000 Queue 83\n",
      "0:01:25.590000 Queue 83\n",
      "0:01:25.856000 Queue 83\n",
      "0:01:26.199000 Queue 83\n",
      "0:01:26.432000 Queue 83\n",
      "0:01:26.756000 Queue 83\n",
      "0:01:27.140000 Queue 83\n",
      "0:01:53.755000 Cancel with 4 in slot 0\n",
      "0:01:54.085000 Cancel with 4 in slot 0\n",
      "0:01:54.314000 Cancel with 4 in slot 0\n",
      "0:01:54.583000 Cancel with 4 in slot 0\n",
      "0:01:54.811000 Cancel with 4 in slot 0\n",
      "0:01:55.127000 Cancel with 4 in slot 0\n",
      "0:01:59.321000 Queue 83\n",
      "0:01:59.617000 Queue 83\n",
      "0:01:59.892000 Queue 83\n",
      "0:02:00.234000 Queue 83\n",
      "0:02:00.645000 Queue 83\n",
      "0:02:14.937000 Cancel with 4 in slot 0\n",
      "0:02:15.199000 Cancel with 4 in slot 0\n",
      "0:02:15.478000 Cancel with 4 in slot 0\n",
      "0:02:15.795000 Cancel with 4 in slot 0\n",
      "0:02:16.174000 Cancel with 4 in slot 0\n",
      "0:02:18.741000 Research 22\n",
      "0:02:22.565000 Research 101\n",
      "0:02:24.053000 Queue 83\n",
      "0:02:24.338000 Queue 83\n",
      "0:02:24.597000 Queue 83\n",
      "0:02:24.877000 Queue 83\n",
      "0:02:25.163000 Queue 83\n",
      "0:02:25.440000 Queue 83\n",
      "0:02:56.018000 Cancel with 4 in slot 1\n",
      "0:02:56.271000 Cancel with 4 in slot 1\n",
      "0:02:56.542000 Cancel with 4 in slot 1\n",
      "0:02:56.797000 Cancel with 4 in slot 1\n",
      "0:02:57.024000 Cancel with 4 in slot 1\n",
      "0:02:57.335000 Cancel with 4 in slot 1\n",
      "0:02:59.276000 Queue 83\n",
      "0:02:59.562000 Queue 83\n",
      "0:02:59.796000 Queue 83\n",
      "0:03:00.063000 Queue 83\n",
      "0:03:00.387000 Queue 83\n",
      "0:03:00.630000 Queue 83\n"
     ]
    }
   ],
   "source": [
    "player_info = player_tc_queues[0]\n",
    "age_queue = player_info.queue[Ages.DARK]\n",
    "print(f\"Feudal time: {timedelta(milliseconds= player_info.age_time[Ages.FEUDAL])}\")\n",
    "[print(v) for v in age_queue];"
   ],
   "metadata": {
    "collapsed": false,
    "ExecuteTime": {
     "end_time": "2023-09-19T08:54:29.090674100Z",
     "start_time": "2023-09-19T08:54:29.064140100Z"
    }
   }
  },
  {
   "cell_type": "markdown",
   "source": [
    "## Dark age idle time\n",
    "This is just processing the queue. From the fuedal age message, we know feudal actually started researching in slot 0 exactly 130 000 ms before. So by looking at the time of the events, we can figure out what was cancelled before the feudal research and what was cancelled after. By subtracting the cancellations from stuff queued up, we get the idle time. "
   ],
   "metadata": {
    "collapsed": false
   }
  },
  {
   "cell_type": "code",
   "execution_count": 440,
   "outputs": [
    {
     "name": "stdout",
     "output_type": "stream",
     "text": [
      "Dark age queue:\n",
      " vils: 24,\n",
      " loom: 1,\n",
      " unfinished feudal researches: 0,\n",
      " cancellations: 21\n",
      "Dark age idle time: 0:03:13.734000\n"
     ]
    }
   ],
   "source": [
    "player_info = player_tc_queues[0]\n",
    "age_queue = player_info.queue[Ages.DARK]\n",
    "\n",
    "# get queued vils and techs relevant to dark age idle time\n",
    "\"\"\"\n",
    "Rules: \n",
    "  - cancellations AFTER starting researching last feudal are not relevant\n",
    "  - cancellations BEFORE starting researching last feudal are\n",
    "  - stuff in queue before last feudal research is relevant\n",
    "  - stuff in queue after last feudal research is not relevant\n",
    "\n",
    "That is: \n",
    "- get a list of queued vils, techs and cancellations before the feudal research actually started\n",
    "  - we get this by looking at the timestamp of reaching feudal minus the time it takes to research feudal, removing anything after such time. \n",
    "- in this list, we remove queued up techs and vils after the last feudal research, but not cancellations.\n",
    "- then, we add up count of vills and techs, feudal researches and cancellations. We subtract fedual reserarches -1 from cancellations and then the cancellations from queued up vills and techs. \n",
    "- finally, we multiply the queued up count by build time to get effective tc \"busy\" time.\n",
    "\"\"\"\n",
    "feudal_research_start_time = player_info.age_time[Ages.FEUDAL] - BUILD_TIMES[EntityIDs.FEUDAL_AGE.value]\n",
    "\n",
    "queue_before_starting_feudal_research = list(filter(lambda ta: ta.time <= feudal_research_start_time, age_queue)) # If feudal message is sent after reaching feudal, then this should always include the last feudal research as well. TODO: confirm this\n",
    "\n",
    "feudal_research_queue_indeces = []\n",
    "for i, ta in enumerate(queue_before_starting_feudal_research):\n",
    "    if ta.action == fast.Action.RESEARCH and ta.payload[\"technology_id\"] == EntityIDs.FEUDAL_AGE.value:\n",
    "        feudal_research_queue_indeces.append(i)\n",
    "        \n",
    "feudal_tech_queue_index = feudal_research_queue_indeces[-1]\n",
    "unfinished_feudal_research_count = len(feudal_research_queue_indeces)-1\n",
    "\n",
    "relevant_queued_vill_count = 0\n",
    "relevant_queued_loom_count = 0\n",
    "relevant_cancellations = 0\n",
    "for i, ta in enumerate(queue_before_starting_feudal_research):\n",
    "    if ta.action == fast.Action.DE_QUEUE and i < feudal_tech_queue_index: # Could be only vil\n",
    "        relevant_queued_vill_count += 1\n",
    "    if ta.action == fast.Action.RESEARCH and ta.payload[\"technology_id\"] == EntityIDs.LOOM.value and i < feudal_tech_queue_index:\n",
    "        relevant_queued_loom_count += 1\n",
    "    if ta.action == fast.Action.SPECIAL:\n",
    "        relevant_cancellations += 1\n",
    "        \n",
    "print(f\"Dark age queue:\\n vils: {relevant_queued_vill_count},\\n loom: {relevant_queued_loom_count},\\n unfinished feudal researches: {unfinished_feudal_research_count},\\n cancellations: {relevant_cancellations}\")\n",
    "\n",
    "tc_dark_busy_time = (relevant_queued_loom_count+relevant_queued_vill_count+unfinished_feudal_research_count-relevant_cancellations)*BUILD_TIMES[EntityIDs.VILLAGER.value]\n",
    "\n",
    "idle_time_dark = player_info.age_time[Ages.FEUDAL] - tc_dark_busy_time\n",
    "print(f\"Dark age idle time: {timedelta(milliseconds=idle_time_dark)}\")"
   ],
   "metadata": {
    "collapsed": false,
    "ExecuteTime": {
     "end_time": "2023-09-19T09:25:07.036914400Z",
     "start_time": "2023-09-19T09:25:07.015763400Z"
    }
   }
  },
  {
   "cell_type": "code",
   "execution_count": null,
   "outputs": [],
   "source": [],
   "metadata": {
    "collapsed": false
   }
  }
 ],
 "metadata": {
  "kernelspec": {
   "display_name": "Python 3",
   "language": "python",
   "name": "python3"
  },
  "language_info": {
   "codemirror_mode": {
    "name": "ipython",
    "version": 2
   },
   "file_extension": ".py",
   "mimetype": "text/x-python",
   "name": "python",
   "nbconvert_exporter": "python",
   "pygments_lexer": "ipython2",
   "version": "2.7.6"
  }
 },
 "nbformat": 4,
 "nbformat_minor": 0
}
